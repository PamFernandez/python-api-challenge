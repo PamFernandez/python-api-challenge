{
 "cells": [
  {
   "cell_type": "markdown",
   "metadata": {},
   "source": [
    "# WeatherPy\n",
    "----\n",
    "\n",
    "#### Note\n",
    "* Instructions have been included for each segment. You do not have to follow them exactly, but they are included to help you think through the steps."
   ]
  },
  {
   "cell_type": "code",
   "execution_count": 1,
   "metadata": {
    "scrolled": true
   },
   "outputs": [],
   "source": [
    "# Dependencies and Setup\n",
    "import matplotlib.pyplot as plt\n",
    "import pandas as pd\n",
    "import numpy as np\n",
    "import requests\n",
    "import time\n",
    "import scipy.stats as st\n",
    "from scipy.stats import linregress\n",
    "from pprint import pprint\n",
    "\n",
    "# Import API key\n",
    "from api_keys import weather_api_key\n",
    "\n",
    "# Incorporated citipy to determine city based on latitude and longitude\n",
    "from citipy import citipy\n",
    "\n",
    "# Output File (CSV)\n",
    "output_data_file = \"../output_data/cities.csv\"\n",
    "\n",
    "# Range of latitudes and longitudes\n",
    "lat_range = (-90, 90)\n",
    "lng_range = (-180, 180)\n"
   ]
  },
  {
   "cell_type": "markdown",
   "metadata": {},
   "source": [
    "## Generate Cities List"
   ]
  },
  {
   "cell_type": "code",
   "execution_count": 2,
   "metadata": {
    "tags": []
   },
   "outputs": [
    {
     "data": {
      "text/plain": [
       "654"
      ]
     },
     "execution_count": 2,
     "metadata": {},
     "output_type": "execute_result"
    }
   ],
   "source": [
    "# List for holding lat_lngs and cities\n",
    "lat_lngs = []\n",
    "cities = []\n",
    "\n",
    "# Create a set of random lat and lng combinations\n",
    "lats = np.random.uniform(lat_range[0], lat_range[1], size=1500)\n",
    "lngs = np.random.uniform(lng_range[0], lng_range[1], size=1500)\n",
    "lat_lngs = zip(lats, lngs)\n",
    "\n",
    "# Identify nearest city for each lat, lng combination\n",
    "for lat_lng in lat_lngs:\n",
    "    city = citipy.nearest_city(lat_lng[0], lat_lng[1]).city_name\n",
    "    \n",
    "    # If the city is unique, then add it to a our cities list\n",
    "    if city not in cities:\n",
    "        cities.append(city)\n",
    "\n",
    "# Print the city count to confirm sufficient count\n",
    "len(cities)"
   ]
  },
  {
   "cell_type": "markdown",
   "metadata": {},
   "source": [
    "### Perform API Calls\n",
    "* Perform a weather check on each city using a series of successive API calls.\n",
    "* Include a print log of each city as it'sbeing processed (with the city number and city name).\n"
   ]
  },
  {
   "cell_type": "code",
   "execution_count": 3,
   "metadata": {},
   "outputs": [
    {
     "data": {
      "text/plain": [
       "'http://api.openweathermap.org/data/2.5/weather?appid=e3ccf44e02cf0a5895ed131fd26f64b2&units=imperial&q='"
      ]
     },
     "execution_count": 3,
     "metadata": {},
     "output_type": "execute_result"
    }
   ],
   "source": [
    "# Save config information.\n",
    "url = \"http://api.openweathermap.org/data/2.5/weather?\"\n",
    "units = \"imperial\"\n",
    "\n",
    "# Build partial query URL\n",
    "query_url = f\"{url}appid={weather_api_key}&units={units}&q=\"\n",
    "query_url"
   ]
  },
  {
   "cell_type": "code",
   "execution_count": 5,
   "metadata": {},
   "outputs": [
    {
     "name": "stdout",
     "output_type": "stream",
     "text": [
      "{'base': 'stations',\n",
      " 'clouds': {'all': 100},\n",
      " 'cod': 200,\n",
      " 'coord': {'lat': 63.7506, 'lon': -68.5145},\n",
      " 'dt': 1644359389,\n",
      " 'id': 5983720,\n",
      " 'main': {'feels_like': -12.91,\n",
      "          'humidity': 84,\n",
      "          'pressure': 1002,\n",
      "          'temp': -0.31,\n",
      "          'temp_max': -0.31,\n",
      "          'temp_min': -0.67},\n",
      " 'name': 'Iqaluit',\n",
      " 'sys': {'country': 'CA',\n",
      "         'id': 47658,\n",
      "         'sunrise': 1644324615,\n",
      "         'sunset': 1644353179,\n",
      "         'type': 2},\n",
      " 'timezone': -18000,\n",
      " 'visibility': 1609,\n",
      " 'weather': [{'description': 'light snow',\n",
      "              'icon': '13n',\n",
      "              'id': 600,\n",
      "              'main': 'Snow'}],\n",
      " 'wind': {'deg': 160, 'speed': 13.8}}\n"
     ]
    }
   ],
   "source": [
    "weather_response = requests.get(query_url + city)\n",
    "weather_json = weather_response.json()\n",
    "pprint(weather_json)"
   ]
  },
  {
   "cell_type": "code",
   "execution_count": 4,
   "metadata": {},
   "outputs": [
    {
     "name": "stdout",
     "output_type": "stream",
     "text": [
      "Weather check for city 0: mogadishu\n",
      "Weather check for city 1: georgetown\n",
      "Weather check for city 2: mahina\n",
      "Missing result... city 3: phan rang NOT FOUND\n",
      "Weather check for city 4: miyako\n",
      "Weather check for city 5: kodiak\n",
      "Weather check for city 6: bambous virieux\n",
      "Weather check for city 7: avarua\n",
      "Weather check for city 8: rocha\n",
      "Weather check for city 9: airai\n",
      "Weather check for city 10: anadyr\n",
      "Weather check for city 11: norman wells\n",
      "Weather check for city 12: yellowknife\n",
      "Weather check for city 13: rikitea\n",
      "Weather check for city 14: sisimiut\n",
      "Weather check for city 15: saint-philippe\n",
      "Weather check for city 16: clyde river\n",
      "Weather check for city 17: ostrovnoy\n",
      "Weather check for city 18: bredasdorp\n",
      "Missing result... city 19: abu jubayhah NOT FOUND\n",
      "Weather check for city 20: tazovskiy\n",
      "Weather check for city 21: fria\n",
      "Weather check for city 22: ushuaia\n",
      "Weather check for city 23: qaanaaq\n",
      "Weather check for city 24: punta arenas\n",
      "Weather check for city 25: upernavik\n",
      "Weather check for city 26: hobart\n",
      "Weather check for city 27: yanliang\n",
      "Weather check for city 28: butaritari\n",
      "Weather check for city 29: carauari\n",
      "Weather check for city 30: mataura\n",
      "Weather check for city 31: godda\n",
      "Weather check for city 32: casper\n",
      "Weather check for city 33: waipawa\n",
      "Weather check for city 34: haileybury\n",
      "Missing result... city 35: illoqqortoormiut NOT FOUND\n",
      "Weather check for city 36: bethel\n",
      "Weather check for city 37: port washington\n",
      "Weather check for city 38: kavaratti\n",
      "Weather check for city 39: ponta do sol\n",
      "Weather check for city 40: tateyama\n",
      "Weather check for city 41: pangnirtung\n",
      "Weather check for city 42: geraldton\n",
      "Weather check for city 43: zabol\n",
      "Weather check for city 44: muros\n",
      "Weather check for city 45: khatanga\n",
      "Weather check for city 46: nikolskoye\n",
      "Weather check for city 47: okha\n",
      "Weather check for city 48: cidreira\n",
      "Weather check for city 49: quatre cocos\n",
      "Weather check for city 50: sainte-marie\n",
      "Weather check for city 51: pyshma\n",
      "Weather check for city 52: new norfolk\n",
      "Weather check for city 53: carnarvon\n",
      "Missing result... city 54: bolungarvik NOT FOUND\n",
      "Weather check for city 55: karatau\n",
      "Weather check for city 56: cape town\n",
      "Missing result... city 57: taolanaro NOT FOUND\n",
      "Weather check for city 58: asyut\n",
      "Weather check for city 59: klaksvik\n",
      "Weather check for city 60: esperance\n",
      "Weather check for city 61: shimoda\n",
      "Weather check for city 62: mahebourg\n",
      "Weather check for city 63: hermanus\n",
      "Weather check for city 64: los llanos de aridane\n",
      "Weather check for city 65: malibu\n",
      "Weather check for city 66: pevek\n",
      "Weather check for city 67: mecca\n",
      "Weather check for city 68: port macquarie\n",
      "Weather check for city 69: zaraza\n",
      "Weather check for city 70: arrifes\n",
      "Weather check for city 71: kruisfontein\n",
      "Weather check for city 72: alvaraes\n",
      "Weather check for city 73: puerto lempira\n",
      "Weather check for city 74: busselton\n",
      "Weather check for city 75: saint anthony\n",
      "Weather check for city 76: vardo\n",
      "Weather check for city 77: bandarbeyla\n",
      "Weather check for city 78: bluff\n",
      "Weather check for city 79: tuktoyaktuk\n",
      "Weather check for city 80: tura\n",
      "Weather check for city 81: akyab\n",
      "Weather check for city 82: berbera\n",
      "Weather check for city 83: tsumeb\n",
      "Weather check for city 84: antalaha\n",
      "Weather check for city 85: atuona\n",
      "Weather check for city 86: dzilam gonzalez\n",
      "Weather check for city 87: hay river\n",
      "Weather check for city 88: tahta\n",
      "Weather check for city 89: hasaki\n",
      "Weather check for city 90: bay roberts\n",
      "Weather check for city 91: san patricio\n",
      "Weather check for city 92: alice springs\n",
      "Weather check for city 93: faanui\n",
      "Weather check for city 94: nicoya\n",
      "Missing result... city 95: sentyabrskiy NOT FOUND\n",
      "Weather check for city 96: severo-kurilsk\n",
      "Weather check for city 97: verkhnevilyuysk\n",
      "Weather check for city 98: artigas\n",
      "Weather check for city 99: talnakh\n",
      "Weather check for city 100: mpika\n",
      "Missing result... city 101: labutta NOT FOUND\n",
      "Weather check for city 102: barcelos\n",
      "Weather check for city 103: vaini\n",
      "Weather check for city 104: qaqortoq\n",
      "Weather check for city 105: puerto ayora\n",
      "Weather check for city 106: madison heights\n",
      "Weather check for city 107: yulara\n",
      "Weather check for city 108: ilulissat\n",
      "Weather check for city 109: turukhansk\n",
      "Weather check for city 110: labuhan\n",
      "Weather check for city 111: chokurdakh\n",
      "Weather check for city 112: jamestown\n",
      "Weather check for city 113: sorland\n",
      "Weather check for city 114: albany\n",
      "Weather check for city 115: zaykovo\n",
      "Weather check for city 116: dayton\n",
      "Weather check for city 117: gouyave\n",
      "Weather check for city 118: port alfred\n",
      "Weather check for city 119: dikson\n",
      "Weather check for city 120: chuy\n",
      "Weather check for city 121: barrow\n",
      "Weather check for city 122: takoradi\n",
      "Weather check for city 123: gat\n",
      "Weather check for city 124: conakry\n",
      "Weather check for city 125: patria\n",
      "Weather check for city 126: pundaguitan\n",
      "Weather check for city 127: manggar\n",
      "Weather check for city 128: guerrero negro\n",
      "Weather check for city 129: vieux-habitants\n",
      "Missing result... city 130: belushya guba NOT FOUND\n",
      "Missing result... city 131: nagireddipalle NOT FOUND\n",
      "Weather check for city 132: iskateley\n",
      "Weather check for city 133: mahibadhoo\n",
      "Missing result... city 134: rungata NOT FOUND\n",
      "Weather check for city 135: tevaitoa\n",
      "Missing result... city 136: bargal NOT FOUND\n",
      "Weather check for city 137: amurzet\n",
      "Weather check for city 138: saskylakh\n",
      "Weather check for city 139: tuatapere\n",
      "Weather check for city 140: kahului\n",
      "Weather check for city 141: coruripe\n",
      "Weather check for city 142: tabas\n",
      "Weather check for city 143: beloha\n",
      "Weather check for city 144: sitka\n",
      "Missing result... city 145: tumannyy NOT FOUND\n",
      "Weather check for city 146: floro\n",
      "Weather check for city 147: iqaluit\n",
      "Weather check for city 148: caravelas\n",
      "Weather check for city 149: senno\n",
      "Weather check for city 150: nizhniy tsasuchey\n",
      "Weather check for city 151: ribeira grande\n",
      "Missing result... city 152: attawapiskat NOT FOUND\n",
      "Missing result... city 153: dekoa NOT FOUND\n",
      "Weather check for city 154: kayes\n",
      "Weather check for city 155: pokrovka\n",
      "Weather check for city 156: castro\n",
      "Weather check for city 157: venado tuerto\n",
      "Weather check for city 158: sola\n",
      "Weather check for city 159: dorado\n",
      "Missing result... city 160: umzimvubu NOT FOUND\n",
      "Weather check for city 161: havre-saint-pierre\n",
      "Weather check for city 162: hilo\n",
      "Weather check for city 163: vestmannaeyjar\n",
      "Weather check for city 164: kapaa\n",
      "Weather check for city 165: thompson\n",
      "Missing result... city 166: lolua NOT FOUND\n",
      "Weather check for city 167: dongkan\n",
      "Weather check for city 168: rudnya\n",
      "Missing result... city 169: galiwinku NOT FOUND\n",
      "Weather check for city 170: padang\n",
      "Weather check for city 171: ancud\n",
      "Weather check for city 172: proletarskiy\n",
      "Weather check for city 173: khani\n",
      "Weather check for city 174: saint george\n",
      "Missing result... city 175: mys shmidta NOT FOUND\n",
      "Weather check for city 176: suntar\n",
      "Missing result... city 177: nizhneyansk NOT FOUND\n",
      "Weather check for city 178: leninskiy\n",
      "Weather check for city 179: havoysund\n",
      "Weather check for city 180: kemise\n",
      "Weather check for city 181: tiksi\n",
      "Weather check for city 182: atikokan\n",
      "Weather check for city 183: delijan\n",
      "Weather check for city 184: virginia beach\n",
      "Weather check for city 185: cap malheureux\n",
      "Weather check for city 186: port elizabeth\n",
      "Weather check for city 187: fortuna\n",
      "Weather check for city 188: nakamura\n",
      "Weather check for city 189: komsomolskiy\n",
      "Weather check for city 190: liverpool\n",
      "Weather check for city 191: touros\n",
      "Weather check for city 192: hithadhoo\n",
      "Weather check for city 193: aklavik\n",
      "Missing result... city 194: amderma NOT FOUND\n",
      "Weather check for city 195: muroto\n",
      "Weather check for city 196: zhigansk\n",
      "Weather check for city 197: staunton\n",
      "Weather check for city 198: westport\n",
      "Weather check for city 199: urengoy\n",
      "Weather check for city 200: maldonado\n",
      "Weather check for city 201: ambon\n",
      "Weather check for city 202: carutapera\n",
      "Weather check for city 203: bonthe\n",
      "Weather check for city 204: krasnoselkup\n",
      "Weather check for city 205: haines junction\n",
      "Missing result... city 206: zachagansk NOT FOUND\n",
      "Weather check for city 207: te anau\n",
      "Missing result... city 208: tabiauea NOT FOUND\n",
      "Weather check for city 209: lasa\n",
      "Weather check for city 210: raduzhnyy\n",
      "Weather check for city 211: coihaique\n",
      "Weather check for city 212: aguimes\n",
      "Weather check for city 213: freeport\n",
      "Weather check for city 214: lebu\n",
      "Weather check for city 215: auki\n",
      "Missing result... city 216: sinkat NOT FOUND\n",
      "Missing result... city 217: barentsburg NOT FOUND\n"
     ]
    },
    {
     "name": "stdout",
     "output_type": "stream",
     "text": [
      "Weather check for city 218: oriximina\n",
      "Weather check for city 219: vanimo\n",
      "Missing result... city 220: palabuhanratu NOT FOUND\n",
      "Weather check for city 221: boa vista\n",
      "Weather check for city 222: ranong\n",
      "Weather check for city 223: bathsheba\n",
      "Weather check for city 224: lagoa\n",
      "Weather check for city 225: college\n",
      "Weather check for city 226: yeppoon\n",
      "Weather check for city 227: cherskiy\n",
      "Weather check for city 228: spinus\n",
      "Weather check for city 229: berlevag\n",
      "Missing result... city 230: hendijan NOT FOUND\n",
      "Weather check for city 231: belmonte\n",
      "Weather check for city 232: orlik\n",
      "Weather check for city 233: mattru\n",
      "Weather check for city 234: tasiilaq\n",
      "Weather check for city 235: nivala\n",
      "Weather check for city 236: benemerito de las americas\n",
      "Weather check for city 237: kununurra\n",
      "Weather check for city 238: pochutla\n",
      "Weather check for city 239: forio\n",
      "Weather check for city 240: bundaberg\n",
      "Weather check for city 241: belyy yar\n",
      "Weather check for city 242: rafsanjan\n",
      "Weather check for city 243: salalah\n",
      "Weather check for city 244: gavle\n",
      "Weather check for city 245: bengkulu\n",
      "Weather check for city 246: aleksandrovskiy zavod\n",
      "Weather check for city 247: puerto gaitan\n",
      "Weather check for city 248: vila franca do campo\n",
      "Weather check for city 249: yongan\n",
      "Weather check for city 250: adrar\n",
      "Weather check for city 251: seka\n",
      "Weather check for city 252: tabuk\n",
      "Weather check for city 253: ugra\n",
      "Weather check for city 254: khilok\n",
      "Weather check for city 255: ketchikan\n",
      "Weather check for city 256: santiago\n",
      "Weather check for city 257: goderich\n",
      "Weather check for city 258: kotelnikovo\n",
      "Weather check for city 259: bayeux\n",
      "Weather check for city 260: ikongo\n",
      "Weather check for city 261: broken hill\n",
      "Weather check for city 262: east london\n",
      "Weather check for city 263: ust-omchug\n",
      "Weather check for city 264: paengaroa\n",
      "Weather check for city 265: saldanha\n",
      "Weather check for city 266: tilichiki\n",
      "Weather check for city 267: tromso\n",
      "Weather check for city 268: caldwell\n",
      "Weather check for city 269: paslek\n",
      "Weather check for city 270: katsuura\n",
      "Weather check for city 271: souillac\n",
      "Weather check for city 272: miraflores\n",
      "Weather check for city 273: viedma\n",
      "Weather check for city 274: rapid valley\n",
      "Weather check for city 275: ereymentau\n",
      "Weather check for city 276: yar-sale\n",
      "Weather check for city 277: pacific grove\n",
      "Weather check for city 278: lahij\n",
      "Weather check for city 279: juneau\n",
      "Weather check for city 280: esfarayen\n",
      "Weather check for city 281: provideniya\n",
      "Weather check for city 282: senanga\n",
      "Weather check for city 283: luderitz\n",
      "Weather check for city 284: zyryanka\n",
      "Weather check for city 285: araouane\n",
      "Weather check for city 286: sao joao da barra\n",
      "Weather check for city 287: buala\n",
      "Weather check for city 288: urubamba\n",
      "Weather check for city 289: tarnogskiy gorodok\n",
      "Weather check for city 290: faya\n",
      "Missing result... city 291: grand river south east NOT FOUND\n",
      "Weather check for city 292: lavrentiya\n",
      "Weather check for city 293: hualmay\n",
      "Missing result... city 294: kerteh NOT FOUND\n",
      "Weather check for city 295: lompoc\n",
      "Weather check for city 296: riyadh\n",
      "Weather check for city 297: cabo san lucas\n",
      "Weather check for city 298: cayenne\n",
      "Missing result... city 299: kuche NOT FOUND\n",
      "Weather check for city 300: tessalit\n",
      "Weather check for city 301: pavlodar\n",
      "Weather check for city 302: pitimbu\n",
      "Weather check for city 303: gunnedah\n",
      "Weather check for city 304: pyay\n",
      "Weather check for city 305: dalian\n",
      "Weather check for city 306: harper\n",
      "Weather check for city 307: port hardy\n",
      "Weather check for city 308: tres arroyos\n",
      "Weather check for city 309: am timan\n",
      "Weather check for city 310: ingham\n",
      "Weather check for city 311: santa lucia\n",
      "Weather check for city 312: ballina\n",
      "Missing result... city 313: cam pha NOT FOUND\n",
      "Weather check for city 314: namibe\n",
      "Weather check for city 315: san cristobal\n",
      "Weather check for city 316: corinto\n",
      "Weather check for city 317: morecambe\n",
      "Weather check for city 318: amahai\n",
      "Weather check for city 319: greymouth\n",
      "Missing result... city 320: malwan NOT FOUND\n",
      "Weather check for city 321: fairbanks\n",
      "Weather check for city 322: zhanaozen\n",
      "Weather check for city 323: saint-francois\n",
      "Weather check for city 324: moroto\n",
      "Weather check for city 325: bonavista\n",
      "Weather check for city 326: suez\n",
      "Weather check for city 327: sabang\n",
      "Weather check for city 328: vila velha\n",
      "Weather check for city 329: isangel\n",
      "Weather check for city 330: palauig\n",
      "Weather check for city 331: kenai\n",
      "Weather check for city 332: mujiayingzi\n",
      "Weather check for city 333: ascension\n",
      "Weather check for city 334: ponta delgada\n",
      "Weather check for city 335: umm kaddadah\n",
      "Weather check for city 336: kijang\n",
      "Weather check for city 337: umm lajj\n",
      "Weather check for city 338: leningradskiy\n",
      "Missing result... city 339: skalistyy NOT FOUND\n",
      "Weather check for city 340: jaunjelgava\n",
      "Weather check for city 341: bobo dioulasso\n",
      "Weather check for city 342: kutum\n",
      "Weather check for city 343: mount gambier\n",
      "Weather check for city 344: amazar\n",
      "Weather check for city 345: vao\n",
      "Weather check for city 346: kalas\n",
      "Missing result... city 347: naftah NOT FOUND\n",
      "Weather check for city 348: olavarria\n",
      "Missing result... city 349: ituni NOT FOUND\n",
      "Weather check for city 350: zhezkazgan\n",
      "Weather check for city 351: sao miguel do araguaia\n",
      "Weather check for city 352: inhambane\n",
      "Weather check for city 353: the valley\n",
      "Weather check for city 354: coahuayana\n",
      "Weather check for city 355: mar del plata\n",
      "Weather check for city 356: praia\n",
      "Weather check for city 357: cedar city\n",
      "Weather check for city 358: warrington\n",
      "Weather check for city 359: arenapolis\n",
      "Weather check for city 360: batticaloa\n",
      "Weather check for city 361: balykshi\n",
      "Weather check for city 362: palana\n",
      "Weather check for city 363: kuandian\n",
      "Weather check for city 364: longyearbyen\n",
      "Weather check for city 365: ulaanbaatar\n",
      "Weather check for city 366: eyl\n",
      "Weather check for city 367: el alto\n",
      "Weather check for city 368: koslan\n",
      "Weather check for city 369: taksimo\n",
      "Weather check for city 370: leshukonskoye\n",
      "Weather check for city 371: vera cruz\n",
      "Weather check for city 372: dingle\n",
      "Weather check for city 373: west bay\n",
      "Weather check for city 374: lazaro cardenas\n",
      "Weather check for city 375: goryachegorsk\n",
      "Weather check for city 376: victoria\n",
      "Weather check for city 377: plouzane\n",
      "Weather check for city 378: lieksa\n",
      "Weather check for city 379: rurrenabaque\n",
      "Weather check for city 380: praia da vitoria\n",
      "Weather check for city 381: narsaq\n",
      "Weather check for city 382: tommot\n",
      "Weather check for city 383: cobija\n",
      "Weather check for city 384: chifeng\n",
      "Missing result... city 385: ust-kamchatsk NOT FOUND\n",
      "Weather check for city 386: boysun\n",
      "Weather check for city 387: mehamn\n",
      "Weather check for city 388: maceio\n",
      "Weather check for city 389: acapulco\n",
      "Weather check for city 390: santa maria\n",
      "Weather check for city 391: luanda\n",
      "Weather check for city 392: lamar\n",
      "Weather check for city 393: laukaa\n",
      "Missing result... city 394: kamenskoye NOT FOUND\n",
      "Weather check for city 395: yaypan\n",
      "Weather check for city 396: washington\n",
      "Weather check for city 397: itarema\n",
      "Weather check for city 398: xacmaz\n",
      "Weather check for city 399: bafq\n",
      "Weather check for city 400: cartagena\n",
      "Weather check for city 401: kalmunai\n",
      "Weather check for city 402: saint-pierre\n",
      "Weather check for city 403: yarada\n",
      "Missing result... city 404: duz NOT FOUND\n",
      "Weather check for city 405: asau\n",
      "Weather check for city 406: katesh\n",
      "Weather check for city 407: vorotynets\n",
      "Missing result... city 408: saleaula NOT FOUND\n",
      "Weather check for city 409: baoqing\n",
      "Weather check for city 410: fort nelson\n",
      "Weather check for city 411: gornyye klyuchi\n",
      "Weather check for city 412: joshimath\n",
      "Weather check for city 413: guelph\n",
      "Weather check for city 414: katobu\n",
      "Weather check for city 415: arraial do cabo\n",
      "Weather check for city 416: galle\n",
      "Weather check for city 417: bloomington\n",
      "Weather check for city 418: silvassa\n",
      "Weather check for city 419: hearst\n",
      "Weather check for city 420: santo amaro da imperatriz\n",
      "Weather check for city 421: pimenta bueno\n",
      "Weather check for city 422: mayo\n",
      "Weather check for city 423: banda aceh\n",
      "Weather check for city 424: mitchell\n",
      "Weather check for city 425: vryburg\n",
      "Missing result... city 426: kadykchan NOT FOUND\n",
      "Weather check for city 427: teknaf\n",
      "Weather check for city 428: luba\n",
      "Weather check for city 429: bria\n",
      "Weather check for city 430: camana\n",
      "Weather check for city 431: korla\n",
      "Weather check for city 432: dunedin\n",
      "Weather check for city 433: prince rupert\n"
     ]
    },
    {
     "name": "stdout",
     "output_type": "stream",
     "text": [
      "Weather check for city 434: yaan\n",
      "Weather check for city 435: parana\n",
      "Weather check for city 436: vanjulet\n",
      "Weather check for city 437: placido de castro\n",
      "Weather check for city 438: zhigalovo\n",
      "Weather check for city 439: hovd\n",
      "Weather check for city 440: la palma\n",
      "Weather check for city 441: khor\n",
      "Weather check for city 442: pisco\n",
      "Weather check for city 443: semenivka\n",
      "Weather check for city 444: nedjo\n",
      "Weather check for city 445: marzuq\n",
      "Weather check for city 446: marawi\n",
      "Weather check for city 447: miranda\n",
      "Weather check for city 448: tabou\n",
      "Weather check for city 449: sakakah\n",
      "Weather check for city 450: san quintin\n",
      "Weather check for city 451: strezhevoy\n",
      "Weather check for city 452: chokwe\n",
      "Weather check for city 453: kiama\n",
      "Weather check for city 454: port keats\n",
      "Weather check for city 455: aizawl\n",
      "Missing result... city 456: aflu NOT FOUND\n",
      "Weather check for city 457: salto\n",
      "Weather check for city 458: takab\n",
      "Weather check for city 459: sudbury\n",
      "Weather check for city 460: olafsvik\n",
      "Weather check for city 461: kavieng\n",
      "Weather check for city 462: slavyanka\n",
      "Weather check for city 463: la primavera\n",
      "Weather check for city 464: dubna\n",
      "Weather check for city 465: terrace\n",
      "Weather check for city 466: hommelvik\n",
      "Weather check for city 467: san carlos de bariloche\n",
      "Weather check for city 468: wuwei\n",
      "Weather check for city 469: yankton\n",
      "Weather check for city 470: gualeguay\n",
      "Weather check for city 471: torbay\n",
      "Weather check for city 472: naze\n",
      "Weather check for city 473: sandnessjoen\n",
      "Weather check for city 474: mirabela\n",
      "Weather check for city 475: valencia\n",
      "Weather check for city 476: boddam\n",
      "Weather check for city 477: jiazi\n",
      "Weather check for city 478: porangatu\n",
      "Weather check for city 479: daru\n",
      "Missing result... city 480: utiroa NOT FOUND\n",
      "Weather check for city 481: tucuman\n",
      "Weather check for city 482: grao mogol\n",
      "Weather check for city 483: otse\n",
      "Weather check for city 484: itoman\n",
      "Weather check for city 485: dali\n",
      "Weather check for city 486: husavik\n",
      "Weather check for city 487: carlagan\n",
      "Weather check for city 488: oksfjord\n",
      "Missing result... city 489: nguiu NOT FOUND\n",
      "Weather check for city 490: peniche\n",
      "Weather check for city 491: oranjemund\n",
      "Weather check for city 492: seymchan\n",
      "Weather check for city 493: saint andrews\n",
      "Weather check for city 494: samarinda\n",
      "Weather check for city 495: chippewa falls\n",
      "Missing result... city 496: tarudant NOT FOUND\n",
      "Weather check for city 497: merrill\n",
      "Weather check for city 498: vilhena\n",
      "Weather check for city 499: broome\n",
      "Weather check for city 500: port blair\n",
      "Weather check for city 501: yenagoa\n",
      "Weather check for city 502: purna\n",
      "Missing result... city 503: rawannawi NOT FOUND\n",
      "Weather check for city 504: marang\n",
      "Weather check for city 505: basco\n",
      "Weather check for city 506: nador\n",
      "Missing result... city 507: ngukurr NOT FOUND\n",
      "Weather check for city 508: nastola\n",
      "Weather check for city 509: torokszentmiklos\n",
      "Weather check for city 510: novoagansk\n",
      "Weather check for city 511: rawson\n",
      "Weather check for city 512: kaeo\n",
      "Weather check for city 513: witham\n",
      "Weather check for city 514: tual\n",
      "Weather check for city 515: nchelenge\n",
      "Weather check for city 516: saint-joseph\n",
      "Weather check for city 517: kampong chhnang\n",
      "Weather check for city 518: matai\n",
      "Missing result... city 519: cheuskiny NOT FOUND\n",
      "Weather check for city 520: olga\n",
      "Weather check for city 521: bereda\n",
      "Weather check for city 522: nelson bay\n",
      "Weather check for city 523: constitucion\n",
      "Weather check for city 524: siuna\n",
      "Weather check for city 525: tigil\n",
      "Weather check for city 526: ixtapa\n",
      "Weather check for city 527: kirakira\n",
      "Weather check for city 528: holsted\n",
      "Weather check for city 529: shaowu\n",
      "Weather check for city 530: longhua\n",
      "Weather check for city 531: kieta\n",
      "Weather check for city 532: pak phanang\n",
      "Weather check for city 533: qasigiannguit\n",
      "Weather check for city 534: pyapon\n",
      "Weather check for city 535: dombovar\n",
      "Weather check for city 536: kaitangata\n",
      "Weather check for city 537: port-gentil\n",
      "Weather check for city 538: sarakhs\n",
      "Weather check for city 539: andilamena\n",
      "Weather check for city 540: vostok\n",
      "Weather check for city 541: bima\n",
      "Weather check for city 542: mahajanga\n",
      "Missing result... city 543: hvammstangi NOT FOUND\n",
      "Weather check for city 544: porto uniao\n",
      "Weather check for city 545: grand forks\n",
      "Weather check for city 546: murindo\n",
      "Weather check for city 547: tiarei\n",
      "Missing result... city 548: satitoa NOT FOUND\n",
      "Weather check for city 549: grafton\n",
      "Weather check for city 550: catalao\n",
      "Weather check for city 551: tautira\n",
      "Weather check for city 552: paamiut\n",
      "Weather check for city 553: ecuandureo\n",
      "Weather check for city 554: dickinson\n",
      "Weather check for city 555: kawambwa\n",
      "Weather check for city 556: yekaterinovka\n",
      "Weather check for city 557: brewster\n",
      "Weather check for city 558: pemba\n",
      "Weather check for city 559: iki-burul\n",
      "Weather check for city 560: tawang\n",
      "Weather check for city 561: dutlwe\n",
      "Weather check for city 562: biltine\n",
      "Weather check for city 563: talcahuano\n",
      "Weather check for city 564: hobyo\n",
      "Missing result... city 565: ningan NOT FOUND\n",
      "Weather check for city 566: scarborough\n",
      "Weather check for city 567: tarko-sale\n",
      "Weather check for city 568: amapa\n",
      "Weather check for city 569: avera\n",
      "Missing result... city 570: tawkar NOT FOUND\n",
      "Weather check for city 571: acarau\n",
      "Weather check for city 572: kidodi\n",
      "Weather check for city 573: manta\n",
      "Weather check for city 574: karratha\n",
      "Weather check for city 575: la romana\n",
      "Weather check for city 576: tocopilla\n",
      "Weather check for city 577: iralaya\n",
      "Weather check for city 578: roma\n",
      "Weather check for city 579: kristiinankaupunki\n",
      "Weather check for city 580: alofi\n",
      "Weather check for city 581: brae\n",
      "Weather check for city 582: tervel\n",
      "Weather check for city 583: bandarban\n",
      "Weather check for city 584: mossendjo\n",
      "Weather check for city 585: innisfail\n",
      "Weather check for city 586: bilibino\n",
      "Weather check for city 587: boyolangu\n",
      "Missing result... city 588: samusu NOT FOUND\n",
      "Weather check for city 589: tobane\n",
      "Weather check for city 590: soe\n",
      "Weather check for city 591: tolmachevo\n",
      "Weather check for city 592: menongue\n",
      "Weather check for city 593: antequera\n",
      "Weather check for city 594: ust-kuyga\n",
      "Missing result... city 595: mentok NOT FOUND\n",
      "Weather check for city 596: kudahuvadhoo\n",
      "Weather check for city 597: kupang\n",
      "Weather check for city 598: wagar\n",
      "Weather check for city 599: kalispell\n",
      "Weather check for city 600: corn island\n",
      "Weather check for city 601: xianyang\n",
      "Weather check for city 602: moreira sales\n",
      "Weather check for city 603: sibolga\n",
      "Weather check for city 604: porto novo\n",
      "Weather check for city 605: la ronge\n",
      "Weather check for city 606: krasnoarmeysk\n",
      "Weather check for city 607: tongren\n",
      "Weather check for city 608: bani\n",
      "Weather check for city 609: tela\n",
      "Weather check for city 610: solnechnyy\n",
      "Weather check for city 611: hambantota\n",
      "Weather check for city 612: miles city\n",
      "Weather check for city 613: ahipara\n",
      "Weather check for city 614: batagay-alyta\n",
      "Weather check for city 615: finschhafen\n",
      "Weather check for city 616: shubarkuduk\n",
      "Weather check for city 617: lincoln\n",
      "Weather check for city 618: polunochnoye\n",
      "Weather check for city 619: ormara\n",
      "Weather check for city 620: srednekolymsk\n",
      "Weather check for city 621: lata\n",
      "Weather check for city 622: irtyshskiy\n",
      "Weather check for city 623: charleston\n",
      "Weather check for city 624: potosi\n",
      "Missing result... city 625: doctor pedro p. pena NOT FOUND\n",
      "Weather check for city 626: chaoyang\n",
      "Weather check for city 627: yumen\n",
      "Weather check for city 628: nouadhibou\n",
      "Weather check for city 629: port shepstone\n",
      "Weather check for city 630: lorengau\n",
      "Weather check for city 631: garden city\n",
      "Weather check for city 632: cefalu\n",
      "Weather check for city 633: evensk\n",
      "Weather check for city 634: sugal\n",
      "Weather check for city 635: cartagena del chaira\n",
      "Weather check for city 636: jumla\n",
      "Weather check for city 637: inuvik\n",
      "Weather check for city 638: baruun-urt\n",
      "Weather check for city 639: nortelandia\n",
      "Weather check for city 640: radinac\n",
      "Weather check for city 641: berlin\n",
      "Weather check for city 642: grootfontein\n",
      "Weather check for city 643: sechura\n",
      "Weather check for city 644: cockburn town\n",
      "Weather check for city 645: karaton\n",
      "Weather check for city 646: tahe\n",
      "Weather check for city 647: onufriyivka\n",
      "Weather check for city 648: kachiry\n",
      "Weather check for city 649: koumac\n",
      "Weather check for city 650: fall river\n",
      "Weather check for city 651: surt\n",
      "Missing result... city 652: bur gabo NOT FOUND\n"
     ]
    },
    {
     "name": "stdout",
     "output_type": "stream",
     "text": [
      "Weather check for city 653: dolinsk\n"
     ]
    }
   ],
   "source": [
    "# set up lists to hold reponse info\n",
    "thiscity = []\n",
    "lat = []\n",
    "lon = []\n",
    "max_temp = []\n",
    "humidity = []\n",
    "cloudiness = []\n",
    "wind_speed = []\n",
    "country = []\n",
    "date = []\n",
    "\n",
    "# Loop through the list of cities and perform a request for data on each\n",
    "for idx, city in enumerate(cities):\n",
    "    try:\n",
    "        response = requests.get(query_url + city).json()\n",
    "        thiscity.append(response['name'])\n",
    "        lat.append(response['coord']['lat'])\n",
    "        lon.append(response['coord']['lon'])\n",
    "        max_temp.append(response['main']['temp_max'])\n",
    "        humidity.append(response['main']['humidity'])\n",
    "        cloudiness.append(response['clouds']['all'])\n",
    "        wind_speed.append(response['wind']['speed'])\n",
    "        country.append(response['sys']['country'])\n",
    "        date.append(response['dt'])                  \n",
    "        print(f\"Weather check for city {idx}: {city}\")\n",
    "    \n",
    "    except:\n",
    "        print(f\"Missing result... city {idx}: {city} NOT FOUND\")"
   ]
  },
  {
   "cell_type": "markdown",
   "metadata": {},
   "source": [
    "### Convert Raw Data to DataFrame\n",
    "* Export the city data into a .csv.\n",
    "* Display the DataFrame"
   ]
  },
  {
   "cell_type": "code",
   "execution_count": 5,
   "metadata": {},
   "outputs": [
    {
     "name": "stdout",
     "output_type": "stream",
     "text": [
      "600\n",
      "600\n",
      "600\n",
      "600\n"
     ]
    }
   ],
   "source": [
    "print(len(thiscity))\n",
    "print(len(lat))\n",
    "print(len(lon))\n",
    "print(len(max_temp))"
   ]
  },
  {
   "cell_type": "code",
   "execution_count": 6,
   "metadata": {},
   "outputs": [
    {
     "data": {
      "text/html": [
       "<div>\n",
       "<style scoped>\n",
       "    .dataframe tbody tr th:only-of-type {\n",
       "        vertical-align: middle;\n",
       "    }\n",
       "\n",
       "    .dataframe tbody tr th {\n",
       "        vertical-align: top;\n",
       "    }\n",
       "\n",
       "    .dataframe thead th {\n",
       "        text-align: right;\n",
       "    }\n",
       "</style>\n",
       "<table border=\"1\" class=\"dataframe\">\n",
       "  <thead>\n",
       "    <tr style=\"text-align: right;\">\n",
       "      <th></th>\n",
       "      <th>city</th>\n",
       "      <th>lat</th>\n",
       "      <th>lon</th>\n",
       "      <th>max temp</th>\n",
       "      <th>humidity</th>\n",
       "      <th>cloudiness</th>\n",
       "      <th>wind speed</th>\n",
       "      <th>country</th>\n",
       "      <th>date</th>\n",
       "    </tr>\n",
       "  </thead>\n",
       "  <tbody>\n",
       "    <tr>\n",
       "      <th>0</th>\n",
       "      <td>Mogadishu</td>\n",
       "      <td>2.0371</td>\n",
       "      <td>45.3438</td>\n",
       "      <td>77.67</td>\n",
       "      <td>81</td>\n",
       "      <td>67</td>\n",
       "      <td>23.64</td>\n",
       "      <td>SO</td>\n",
       "      <td>1644430843</td>\n",
       "    </tr>\n",
       "    <tr>\n",
       "      <th>1</th>\n",
       "      <td>George Town</td>\n",
       "      <td>5.4112</td>\n",
       "      <td>100.3354</td>\n",
       "      <td>80.53</td>\n",
       "      <td>95</td>\n",
       "      <td>20</td>\n",
       "      <td>3.44</td>\n",
       "      <td>MY</td>\n",
       "      <td>1644430895</td>\n",
       "    </tr>\n",
       "    <tr>\n",
       "      <th>2</th>\n",
       "      <td>Mahina</td>\n",
       "      <td>-17.5065</td>\n",
       "      <td>-149.4890</td>\n",
       "      <td>82.17</td>\n",
       "      <td>74</td>\n",
       "      <td>20</td>\n",
       "      <td>5.75</td>\n",
       "      <td>PF</td>\n",
       "      <td>1644430940</td>\n",
       "    </tr>\n",
       "    <tr>\n",
       "      <th>3</th>\n",
       "      <td>Miyako</td>\n",
       "      <td>39.6367</td>\n",
       "      <td>141.9525</td>\n",
       "      <td>32.52</td>\n",
       "      <td>71</td>\n",
       "      <td>100</td>\n",
       "      <td>1.70</td>\n",
       "      <td>JP</td>\n",
       "      <td>1644430941</td>\n",
       "    </tr>\n",
       "    <tr>\n",
       "      <th>4</th>\n",
       "      <td>Saint Paul Harbor</td>\n",
       "      <td>57.7900</td>\n",
       "      <td>-152.4072</td>\n",
       "      <td>24.31</td>\n",
       "      <td>63</td>\n",
       "      <td>0</td>\n",
       "      <td>8.05</td>\n",
       "      <td>US</td>\n",
       "      <td>1644430941</td>\n",
       "    </tr>\n",
       "    <tr>\n",
       "      <th>5</th>\n",
       "      <td>Bambous Virieux</td>\n",
       "      <td>-20.3428</td>\n",
       "      <td>57.7575</td>\n",
       "      <td>77.25</td>\n",
       "      <td>83</td>\n",
       "      <td>40</td>\n",
       "      <td>4.61</td>\n",
       "      <td>MU</td>\n",
       "      <td>1644430942</td>\n",
       "    </tr>\n",
       "    <tr>\n",
       "      <th>6</th>\n",
       "      <td>Avarua</td>\n",
       "      <td>-21.2078</td>\n",
       "      <td>-159.7750</td>\n",
       "      <td>77.05</td>\n",
       "      <td>88</td>\n",
       "      <td>99</td>\n",
       "      <td>1.14</td>\n",
       "      <td>CK</td>\n",
       "      <td>1644430942</td>\n",
       "    </tr>\n",
       "    <tr>\n",
       "      <th>7</th>\n",
       "      <td>Rocha</td>\n",
       "      <td>-34.4833</td>\n",
       "      <td>-54.3333</td>\n",
       "      <td>77.92</td>\n",
       "      <td>46</td>\n",
       "      <td>7</td>\n",
       "      <td>8.52</td>\n",
       "      <td>UY</td>\n",
       "      <td>1644430942</td>\n",
       "    </tr>\n",
       "    <tr>\n",
       "      <th>8</th>\n",
       "      <td>Airai</td>\n",
       "      <td>-8.9266</td>\n",
       "      <td>125.4092</td>\n",
       "      <td>61.29</td>\n",
       "      <td>93</td>\n",
       "      <td>100</td>\n",
       "      <td>1.21</td>\n",
       "      <td>TL</td>\n",
       "      <td>1644430776</td>\n",
       "    </tr>\n",
       "    <tr>\n",
       "      <th>9</th>\n",
       "      <td>Anadyr</td>\n",
       "      <td>64.7500</td>\n",
       "      <td>177.4833</td>\n",
       "      <td>-21.50</td>\n",
       "      <td>76</td>\n",
       "      <td>0</td>\n",
       "      <td>11.18</td>\n",
       "      <td>RU</td>\n",
       "      <td>1644430943</td>\n",
       "    </tr>\n",
       "    <tr>\n",
       "      <th>10</th>\n",
       "      <td>Norman Wells</td>\n",
       "      <td>65.2820</td>\n",
       "      <td>-126.8329</td>\n",
       "      <td>-9.36</td>\n",
       "      <td>59</td>\n",
       "      <td>100</td>\n",
       "      <td>26.46</td>\n",
       "      <td>CA</td>\n",
       "      <td>1644430943</td>\n",
       "    </tr>\n",
       "    <tr>\n",
       "      <th>11</th>\n",
       "      <td>Yellowknife</td>\n",
       "      <td>62.4560</td>\n",
       "      <td>-114.3525</td>\n",
       "      <td>-11.70</td>\n",
       "      <td>73</td>\n",
       "      <td>100</td>\n",
       "      <td>8.05</td>\n",
       "      <td>CA</td>\n",
       "      <td>1644430741</td>\n",
       "    </tr>\n",
       "    <tr>\n",
       "      <th>12</th>\n",
       "      <td>Rikitea</td>\n",
       "      <td>-23.1203</td>\n",
       "      <td>-134.9692</td>\n",
       "      <td>78.75</td>\n",
       "      <td>67</td>\n",
       "      <td>3</td>\n",
       "      <td>16.31</td>\n",
       "      <td>PF</td>\n",
       "      <td>1644430944</td>\n",
       "    </tr>\n",
       "    <tr>\n",
       "      <th>13</th>\n",
       "      <td>Sisimiut</td>\n",
       "      <td>66.9395</td>\n",
       "      <td>-53.6735</td>\n",
       "      <td>15.26</td>\n",
       "      <td>95</td>\n",
       "      <td>100</td>\n",
       "      <td>16.17</td>\n",
       "      <td>GL</td>\n",
       "      <td>1644430944</td>\n",
       "    </tr>\n",
       "    <tr>\n",
       "      <th>14</th>\n",
       "      <td>Saint-Philippe</td>\n",
       "      <td>-21.3585</td>\n",
       "      <td>55.7679</td>\n",
       "      <td>76.59</td>\n",
       "      <td>79</td>\n",
       "      <td>98</td>\n",
       "      <td>7.49</td>\n",
       "      <td>RE</td>\n",
       "      <td>1644430944</td>\n",
       "    </tr>\n",
       "    <tr>\n",
       "      <th>15</th>\n",
       "      <td>Clyde River</td>\n",
       "      <td>70.4692</td>\n",
       "      <td>-68.5914</td>\n",
       "      <td>-19.97</td>\n",
       "      <td>76</td>\n",
       "      <td>100</td>\n",
       "      <td>26.46</td>\n",
       "      <td>CA</td>\n",
       "      <td>1644430945</td>\n",
       "    </tr>\n",
       "    <tr>\n",
       "      <th>16</th>\n",
       "      <td>Ostrovnoy</td>\n",
       "      <td>68.0531</td>\n",
       "      <td>39.5131</td>\n",
       "      <td>25.14</td>\n",
       "      <td>85</td>\n",
       "      <td>100</td>\n",
       "      <td>24.36</td>\n",
       "      <td>RU</td>\n",
       "      <td>1644430868</td>\n",
       "    </tr>\n",
       "    <tr>\n",
       "      <th>17</th>\n",
       "      <td>Bredasdorp</td>\n",
       "      <td>-34.5322</td>\n",
       "      <td>20.0403</td>\n",
       "      <td>70.92</td>\n",
       "      <td>64</td>\n",
       "      <td>0</td>\n",
       "      <td>12.66</td>\n",
       "      <td>ZA</td>\n",
       "      <td>1644430889</td>\n",
       "    </tr>\n",
       "    <tr>\n",
       "      <th>18</th>\n",
       "      <td>Tazovsky</td>\n",
       "      <td>67.4667</td>\n",
       "      <td>78.7000</td>\n",
       "      <td>-1.75</td>\n",
       "      <td>95</td>\n",
       "      <td>73</td>\n",
       "      <td>11.95</td>\n",
       "      <td>RU</td>\n",
       "      <td>1644430946</td>\n",
       "    </tr>\n",
       "    <tr>\n",
       "      <th>19</th>\n",
       "      <td>Fria</td>\n",
       "      <td>10.4167</td>\n",
       "      <td>-13.5833</td>\n",
       "      <td>81.21</td>\n",
       "      <td>23</td>\n",
       "      <td>71</td>\n",
       "      <td>6.31</td>\n",
       "      <td>GN</td>\n",
       "      <td>1644430946</td>\n",
       "    </tr>\n",
       "    <tr>\n",
       "      <th>20</th>\n",
       "      <td>Ushuaia</td>\n",
       "      <td>-54.8000</td>\n",
       "      <td>-68.3000</td>\n",
       "      <td>58.62</td>\n",
       "      <td>41</td>\n",
       "      <td>40</td>\n",
       "      <td>14.97</td>\n",
       "      <td>AR</td>\n",
       "      <td>1644430879</td>\n",
       "    </tr>\n",
       "    <tr>\n",
       "      <th>21</th>\n",
       "      <td>Qaanaaq</td>\n",
       "      <td>77.4840</td>\n",
       "      <td>-69.3632</td>\n",
       "      <td>-20.76</td>\n",
       "      <td>78</td>\n",
       "      <td>93</td>\n",
       "      <td>5.03</td>\n",
       "      <td>GL</td>\n",
       "      <td>1644430779</td>\n",
       "    </tr>\n",
       "    <tr>\n",
       "      <th>22</th>\n",
       "      <td>Punta Arenas</td>\n",
       "      <td>-53.1500</td>\n",
       "      <td>-70.9167</td>\n",
       "      <td>53.11</td>\n",
       "      <td>37</td>\n",
       "      <td>68</td>\n",
       "      <td>29.35</td>\n",
       "      <td>CL</td>\n",
       "      <td>1644430888</td>\n",
       "    </tr>\n",
       "    <tr>\n",
       "      <th>23</th>\n",
       "      <td>Upernavik</td>\n",
       "      <td>72.7868</td>\n",
       "      <td>-56.1549</td>\n",
       "      <td>-12.33</td>\n",
       "      <td>68</td>\n",
       "      <td>94</td>\n",
       "      <td>8.97</td>\n",
       "      <td>GL</td>\n",
       "      <td>1644430947</td>\n",
       "    </tr>\n",
       "    <tr>\n",
       "      <th>24</th>\n",
       "      <td>Hobart</td>\n",
       "      <td>-42.8794</td>\n",
       "      <td>147.3294</td>\n",
       "      <td>60.66</td>\n",
       "      <td>83</td>\n",
       "      <td>100</td>\n",
       "      <td>0.00</td>\n",
       "      <td>AU</td>\n",
       "      <td>1644430918</td>\n",
       "    </tr>\n",
       "    <tr>\n",
       "      <th>25</th>\n",
       "      <td>Yanliang</td>\n",
       "      <td>34.6592</td>\n",
       "      <td>109.2292</td>\n",
       "      <td>31.19</td>\n",
       "      <td>61</td>\n",
       "      <td>3</td>\n",
       "      <td>3.47</td>\n",
       "      <td>CN</td>\n",
       "      <td>1644430947</td>\n",
       "    </tr>\n",
       "    <tr>\n",
       "      <th>26</th>\n",
       "      <td>Butaritari</td>\n",
       "      <td>3.0707</td>\n",
       "      <td>172.7902</td>\n",
       "      <td>81.64</td>\n",
       "      <td>78</td>\n",
       "      <td>100</td>\n",
       "      <td>15.86</td>\n",
       "      <td>KI</td>\n",
       "      <td>1644430947</td>\n",
       "    </tr>\n",
       "    <tr>\n",
       "      <th>27</th>\n",
       "      <td>Carauari</td>\n",
       "      <td>-4.8828</td>\n",
       "      <td>-66.8958</td>\n",
       "      <td>81.57</td>\n",
       "      <td>75</td>\n",
       "      <td>96</td>\n",
       "      <td>3.38</td>\n",
       "      <td>BR</td>\n",
       "      <td>1644430948</td>\n",
       "    </tr>\n",
       "    <tr>\n",
       "      <th>28</th>\n",
       "      <td>Mataura</td>\n",
       "      <td>-46.1927</td>\n",
       "      <td>168.8643</td>\n",
       "      <td>59.49</td>\n",
       "      <td>99</td>\n",
       "      <td>100</td>\n",
       "      <td>1.88</td>\n",
       "      <td>NZ</td>\n",
       "      <td>1644430948</td>\n",
       "    </tr>\n",
       "    <tr>\n",
       "      <th>29</th>\n",
       "      <td>Godda</td>\n",
       "      <td>24.8333</td>\n",
       "      <td>87.2167</td>\n",
       "      <td>66.96</td>\n",
       "      <td>56</td>\n",
       "      <td>60</td>\n",
       "      <td>2.28</td>\n",
       "      <td>IN</td>\n",
       "      <td>1644430948</td>\n",
       "    </tr>\n",
       "  </tbody>\n",
       "</table>\n",
       "</div>"
      ],
      "text/plain": [
       "                 city      lat       lon  max temp  humidity  cloudiness  \\\n",
       "0           Mogadishu   2.0371   45.3438     77.67        81          67   \n",
       "1         George Town   5.4112  100.3354     80.53        95          20   \n",
       "2              Mahina -17.5065 -149.4890     82.17        74          20   \n",
       "3              Miyako  39.6367  141.9525     32.52        71         100   \n",
       "4   Saint Paul Harbor  57.7900 -152.4072     24.31        63           0   \n",
       "5     Bambous Virieux -20.3428   57.7575     77.25        83          40   \n",
       "6              Avarua -21.2078 -159.7750     77.05        88          99   \n",
       "7               Rocha -34.4833  -54.3333     77.92        46           7   \n",
       "8               Airai  -8.9266  125.4092     61.29        93         100   \n",
       "9              Anadyr  64.7500  177.4833    -21.50        76           0   \n",
       "10       Norman Wells  65.2820 -126.8329     -9.36        59         100   \n",
       "11        Yellowknife  62.4560 -114.3525    -11.70        73         100   \n",
       "12            Rikitea -23.1203 -134.9692     78.75        67           3   \n",
       "13           Sisimiut  66.9395  -53.6735     15.26        95         100   \n",
       "14     Saint-Philippe -21.3585   55.7679     76.59        79          98   \n",
       "15        Clyde River  70.4692  -68.5914    -19.97        76         100   \n",
       "16          Ostrovnoy  68.0531   39.5131     25.14        85         100   \n",
       "17         Bredasdorp -34.5322   20.0403     70.92        64           0   \n",
       "18           Tazovsky  67.4667   78.7000     -1.75        95          73   \n",
       "19               Fria  10.4167  -13.5833     81.21        23          71   \n",
       "20            Ushuaia -54.8000  -68.3000     58.62        41          40   \n",
       "21            Qaanaaq  77.4840  -69.3632    -20.76        78          93   \n",
       "22       Punta Arenas -53.1500  -70.9167     53.11        37          68   \n",
       "23          Upernavik  72.7868  -56.1549    -12.33        68          94   \n",
       "24             Hobart -42.8794  147.3294     60.66        83         100   \n",
       "25           Yanliang  34.6592  109.2292     31.19        61           3   \n",
       "26         Butaritari   3.0707  172.7902     81.64        78         100   \n",
       "27           Carauari  -4.8828  -66.8958     81.57        75          96   \n",
       "28            Mataura -46.1927  168.8643     59.49        99         100   \n",
       "29              Godda  24.8333   87.2167     66.96        56          60   \n",
       "\n",
       "    wind speed country        date  \n",
       "0        23.64      SO  1644430843  \n",
       "1         3.44      MY  1644430895  \n",
       "2         5.75      PF  1644430940  \n",
       "3         1.70      JP  1644430941  \n",
       "4         8.05      US  1644430941  \n",
       "5         4.61      MU  1644430942  \n",
       "6         1.14      CK  1644430942  \n",
       "7         8.52      UY  1644430942  \n",
       "8         1.21      TL  1644430776  \n",
       "9        11.18      RU  1644430943  \n",
       "10       26.46      CA  1644430943  \n",
       "11        8.05      CA  1644430741  \n",
       "12       16.31      PF  1644430944  \n",
       "13       16.17      GL  1644430944  \n",
       "14        7.49      RE  1644430944  \n",
       "15       26.46      CA  1644430945  \n",
       "16       24.36      RU  1644430868  \n",
       "17       12.66      ZA  1644430889  \n",
       "18       11.95      RU  1644430946  \n",
       "19        6.31      GN  1644430946  \n",
       "20       14.97      AR  1644430879  \n",
       "21        5.03      GL  1644430779  \n",
       "22       29.35      CL  1644430888  \n",
       "23        8.97      GL  1644430947  \n",
       "24        0.00      AU  1644430918  \n",
       "25        3.47      CN  1644430947  \n",
       "26       15.86      KI  1644430947  \n",
       "27        3.38      BR  1644430948  \n",
       "28        1.88      NZ  1644430948  \n",
       "29        2.28      IN  1644430948  "
      ]
     },
     "execution_count": 6,
     "metadata": {},
     "output_type": "execute_result"
    }
   ],
   "source": [
    "# create the data frame\n",
    "weather_dict = {\n",
    "    'city': thiscity,\n",
    "    'lat': lat,\n",
    "    'lon': lon,\n",
    "    'max temp': max_temp,\n",
    "    'humidity': humidity,\n",
    "    'cloudiness': cloudiness,\n",
    "    'wind speed': wind_speed,\n",
    "    'country': country,\n",
    "    'date': date\n",
    "}\n",
    "city_df = pd.DataFrame(weather_dict)\n",
    "city_df.head(30)"
   ]
  },
  {
   "cell_type": "code",
   "execution_count": 7,
   "metadata": {},
   "outputs": [],
   "source": [
    "# export to a CSV\n",
    "city_df.to_csv(output_data_file)"
   ]
  },
  {
   "cell_type": "markdown",
   "metadata": {},
   "source": [
    "## Inspect the data and remove the cities where the humidity > 100%.\n",
    "----\n",
    "Skip this step if there are no cities that have humidity > 100%. "
   ]
  },
  {
   "cell_type": "code",
   "execution_count": 8,
   "metadata": {},
   "outputs": [
    {
     "data": {
      "text/plain": [
       "Int64Index([], dtype='int64')"
      ]
     },
     "execution_count": 8,
     "metadata": {},
     "output_type": "execute_result"
    }
   ],
   "source": [
    "#  Get the indices of cities that have humidity over 100%.\n",
    "high_humidity_df = city_df[(city_df['humidity'] > 100)]\n",
    "high_humidity_df.index"
   ]
  },
  {
   "cell_type": "code",
   "execution_count": 14,
   "metadata": {},
   "outputs": [],
   "source": [
    "# Make a new DataFrame equal to the city data to drop all humidity outliers by index.\n",
    "# Passing \"inplace=False\" will make a copy of the city_data DataFrame, which we call \"clean_city_data\".\n",
    "\n",
    "#clean_city_df = city_df.join(high_humidity_df, how='outer')\n",
    "#clean_city_df = pd.merge(city_df, high_humidity_df, on=index)\n",
    "#clean_city_df"
   ]
  },
  {
   "cell_type": "markdown",
   "metadata": {},
   "source": [
    "## Plotting the Data\n",
    "* Use proper labeling of the plots using plot titles (including date of analysis) and axes labels.\n",
    "* Save the plotted figures as .pngs."
   ]
  },
  {
   "cell_type": "markdown",
   "metadata": {},
   "source": [
    "## Latitude vs. Temperature Plot"
   ]
  },
  {
   "cell_type": "code",
   "execution_count": 23,
   "metadata": {},
   "outputs": [
    {
     "data": {
      "text/plain": [
       "Timestamp('2022-02-09 18:20:43')"
      ]
     },
     "execution_count": 23,
     "metadata": {},
     "output_type": "execute_result"
    }
   ],
   "source": [
    "# date of analysis\n",
    "find_date = city_df[\"date\"][0]\n",
    "run_date = pd.to_datetime(find_date, unit='s')\n",
    "run_date"
   ]
  },
  {
   "cell_type": "code",
   "execution_count": 24,
   "metadata": {},
   "outputs": [
    {
     "data": {
      "image/png": "[encoded data removed]",
      "text/plain": [
       "<Figure size 432x288 with 1 Axes>"
      ]
     },
     "metadata": {
      "needs_background": "light"
     },
     "output_type": "display_data"
    }
   ],
   "source": [
    "# lat vs temp basic plot\n",
    "x_lat = city_df['lat']\n",
    "y_maxtemp = city_df['max temp']\n",
    "plt.scatter(x_lat, y_maxtemp)\n",
    "\n",
    "# titles, labels, and design elements\n",
    "plt.title(f'Latitude vs Temperature on {run_date}')\n",
    "plt.xlabel('latitude')\n",
    "plt.ylabel('maximum temperature (F)')\n",
    "plt.grid()\n",
    "\n",
    "# display plot\n",
    "plt.show()"
   ]
  },
  {
   "cell_type": "markdown",
   "metadata": {},
   "source": [
    "## Latitude vs. Temperature Plot commentary\n",
    "In this plot we see that temperatures are highest near the equator (0deg latitude). The temperatures skew colder in the northern hemisphere (the positive degrees latitude) right now because it is our winter."
   ]
  },
  {
   "cell_type": "code",
   "execution_count": 27,
   "metadata": {
    "scrolled": true
   },
   "outputs": [
    {
     "data": {
      "text/plain": [
       "<Figure size 432x288 with 0 Axes>"
      ]
     },
     "metadata": {},
     "output_type": "display_data"
    }
   ],
   "source": [
    "# export .png to file\n",
    "plt.savefig(\"../output_data/LatVsTemp.png\")"
   ]
  },
  {
   "cell_type": "markdown",
   "metadata": {},
   "source": [
    "## Latitude vs. Humidity Plot"
   ]
  },
  {
   "cell_type": "code",
   "execution_count": 28,
   "metadata": {},
   "outputs": [
    {
     "data": {
      "image/png": "[encoded data removed]",
      "text/plain": [
       "<Figure size 432x288 with 1 Axes>"
      ]
     },
     "metadata": {
      "needs_background": "light"
     },
     "output_type": "display_data"
    }
   ],
   "source": [
    "# lat vs temp basic plot\n",
    "x_lat = city_df['lat']\n",
    "y_humidity = city_df['humidity']\n",
    "plt.scatter(x_lat, y_humidity)\n",
    "\n",
    "# titles, labels, and design elements\n",
    "plt.title(f'Latitude vs Humidity on {run_date}')\n",
    "plt.xlabel('latitude')\n",
    "plt.ylabel('humidity')\n",
    "plt.grid()\n",
    "\n",
    "# display plot\n",
    "plt.show()"
   ]
  },
  {
   "cell_type": "markdown",
   "metadata": {},
   "source": [
    "## Latitude vs. Humidity Plot commentary\n",
    "In this plot we see that there doesn't appear to be any particular correlation between latitude and humidity."
   ]
  },
  {
   "cell_type": "code",
   "execution_count": 29,
   "metadata": {},
   "outputs": [
    {
     "data": {
      "text/plain": [
       "<Figure size 432x288 with 0 Axes>"
      ]
     },
     "metadata": {},
     "output_type": "display_data"
    }
   ],
   "source": [
    "# export .png to file\n",
    "plt.savefig(\"../output_data/LatVsHumidity.png\")"
   ]
  },
  {
   "cell_type": "markdown",
   "metadata": {},
   "source": [
    "## Latitude vs. Cloudiness Plot"
   ]
  },
  {
   "cell_type": "code",
   "execution_count": 30,
   "metadata": {},
   "outputs": [
    {
     "data": {
      "image/png": "[encoded data removed]",
      "text/plain": [
       "<Figure size 432x288 with 1 Axes>"
      ]
     },
     "metadata": {
      "needs_background": "light"
     },
     "output_type": "display_data"
    }
   ],
   "source": [
    "# lat vs temp basic plot\n",
    "x_lat = city_df['lat']\n",
    "y_cloudiness = city_df['cloudiness']\n",
    "plt.scatter(x_lat, y_cloudiness)\n",
    "\n",
    "# titles, labels, and design elements\n",
    "plt.title(f'Latitude vs Cloudiness on {run_date}')\n",
    "plt.xlabel('latitude')\n",
    "plt.ylabel('cloudiness')\n",
    "plt.grid()\n",
    "\n",
    "# display plot\n",
    "plt.show()"
   ]
  },
  {
   "cell_type": "markdown",
   "metadata": {},
   "source": [
    "## Latitude vs. Cloudiness Plot commentary\n",
    "In this plot we see that there doesn't appear to be any particular correlation between latitude and cloudiness. What we can see is that cloudiness was often rounded to the nearest 10% or so. There are many groupings of points on the 0%, 40%, 75%, and 100% lines."
   ]
  },
  {
   "cell_type": "code",
   "execution_count": 32,
   "metadata": {},
   "outputs": [
    {
     "data": {
      "text/plain": [
       "<Figure size 432x288 with 0 Axes>"
      ]
     },
     "metadata": {},
     "output_type": "display_data"
    }
   ],
   "source": [
    "# export .png to file\n",
    "plt.savefig(\"../output_data/LatVsCloudiness.png\")"
   ]
  },
  {
   "cell_type": "markdown",
   "metadata": {},
   "source": [
    "## Latitude vs. Wind Speed Plot"
   ]
  },
  {
   "cell_type": "code",
   "execution_count": 33,
   "metadata": {},
   "outputs": [
    {
     "data": {
      "image/png": "[encoded data removed]",
      "text/plain": [
       "<Figure size 432x288 with 1 Axes>"
      ]
     },
     "metadata": {
      "needs_background": "light"
     },
     "output_type": "display_data"
    }
   ],
   "source": [
    "# lat vs temp basic plot\n",
    "x_lat = city_df['lat']\n",
    "y_windspeed = city_df['wind speed']\n",
    "plt.scatter(x_lat, y_windspeed)\n",
    "\n",
    "# titles, labels, and design elements\n",
    "plt.title(f'Latitude vs Wind Speed on {run_date}')\n",
    "plt.xlabel('latitude')\n",
    "plt.ylabel('wind speed')\n",
    "plt.grid()\n",
    "\n",
    "# display plot\n",
    "plt.show()"
   ]
  },
  {
   "cell_type": "markdown",
   "metadata": {},
   "source": [
    "## Latitude vs. Wind Speed Plot commentary\n",
    "In this plot we see that that there doesn't appear to be any particular correlation between latitude and wind speed."
   ]
  },
  {
   "cell_type": "code",
   "execution_count": 34,
   "metadata": {},
   "outputs": [
    {
     "data": {
      "text/plain": [
       "<Figure size 432x288 with 0 Axes>"
      ]
     },
     "metadata": {},
     "output_type": "display_data"
    }
   ],
   "source": [
    "# export .png to file\n",
    "plt.savefig(\"../output_data/LatVsWindSpeed.png\")"
   ]
  },
  {
   "cell_type": "markdown",
   "metadata": {},
   "source": [
    "## Linear Regression"
   ]
  },
  {
   "cell_type": "code",
   "execution_count": 35,
   "metadata": {},
   "outputs": [],
   "source": [
    "northern_df = city_df.loc[city_df['lat'] > 0]\n",
    "southern_df = city_df.loc[city_df['lat'] < 0]"
   ]
  },
  {
   "cell_type": "markdown",
   "metadata": {},
   "source": [
    "####  Northern Hemisphere - Max Temp vs. Latitude Linear Regression"
   ]
  },
  {
   "cell_type": "code",
   "execution_count": 36,
   "metadata": {},
   "outputs": [
    {
     "name": "stdout",
     "output_type": "stream",
     "text": [
      "The correlation between latitude and max temperature(F) in the Northern Hemisphere is -0.8532062982707594\n",
      "\n"
     ]
    },
    {
     "data": {
      "image/png": "[encoded data removed]",
      "text/plain": [
       "<Figure size 432x288 with 1 Axes>"
      ]
     },
     "metadata": {
      "needs_background": "light"
     },
     "output_type": "display_data"
    }
   ],
   "source": [
    "# lat vs temp basic plot\n",
    "x_lat_north = northern_df['lat']\n",
    "y_maxtemp_north = northern_df['max temp']\n",
    "plt.scatter(x_lat_north, y_maxtemp_north)\n",
    "\n",
    "# titles, labels, and design elements\n",
    "plt.title(f'Northern Hemisphere Latitude vs Max Temperature (F) on {run_date}')\n",
    "plt.xlabel('latitude')\n",
    "plt.ylabel('max temperature (F)')\n",
    "plt.grid()\n",
    "\n",
    "# linear regression\n",
    "(slope, intercept, rvalue, pvalue, stderr) = linregress(x_lat_north, y_maxtemp_north)\n",
    "regress_values = x_lat_north * slope + intercept\n",
    "line_eq = \"y = \" + str(round(slope,2)) + \"x + \" + str(round(intercept,2))\n",
    "plt.scatter(x_lat_north, y_maxtemp_north)\n",
    "plt.plot(x_lat_north,regress_values,\"r-\")\n",
    "\n",
    "plt.annotate(line_eq,(5, -10),fontsize=12,color=\"red\")\n",
    "\n",
    "print(f\"The correlation between latitude and max temperature(F) in the Northern Hemisphere is {rvalue}\")\n",
    "print(\"\")\n",
    "\n",
    "# display plot\n",
    "plt.show()"
   ]
  },
  {
   "cell_type": "markdown",
   "metadata": {},
   "source": [
    "####  Southern Hemisphere - Max Temp vs. Latitude Linear Regression"
   ]
  },
  {
   "cell_type": "code",
   "execution_count": 37,
   "metadata": {},
   "outputs": [
    {
     "name": "stdout",
     "output_type": "stream",
     "text": [
      "The correlation between latitude and max temperature(F) in the Southern Hemisphere is 0.4472681929273678\n",
      "\n"
     ]
    },
    {
     "data": {
      "image/png": "[encoded data removed]",
      "text/plain": [
       "<Figure size 432x288 with 1 Axes>"
      ]
     },
     "metadata": {
      "needs_background": "light"
     },
     "output_type": "display_data"
    }
   ],
   "source": [
    "# lat vs temp basic plot\n",
    "x_lat_south = southern_df['lat']\n",
    "y_maxtemp_south = southern_df['max temp']\n",
    "plt.scatter(x_lat_south, y_maxtemp_south)\n",
    "\n",
    "# titles, labels, and design elements\n",
    "plt.title(f'Southern Hemisphere Latitude vs Max Temperature (F) on {run_date}')\n",
    "plt.xlabel('latitude')\n",
    "plt.ylabel('max temperature (F)')\n",
    "plt.grid()\n",
    "\n",
    "# linear regression\n",
    "(slope, intercept, rvalue, pvalue, stderr) = linregress(x_lat_south, y_maxtemp_south)\n",
    "regress_values = x_lat_south * slope + intercept\n",
    "line_eq = \"y = \" + str(round(slope,2)) + \"x + \" + str(round(intercept,2))\n",
    "plt.scatter(x_lat_south, y_maxtemp_south)\n",
    "plt.plot(x_lat_south,regress_values,\"r-\")\n",
    "\n",
    "plt.annotate(line_eq,(-25, 55),fontsize=12,color=\"red\")\n",
    "\n",
    "print(f\"The correlation between latitude and max temperature(F) in the Southern Hemisphere is {rvalue}\")\n",
    "print(\"\")\n",
    "\n",
    "# display plot\n",
    "plt.show()"
   ]
  },
  {
   "cell_type": "markdown",
   "metadata": {},
   "source": [
    "## North and South Latitude vs. Max Temperature Plot commentary\n",
    "In these two plots we see a strong correlation between latitude and temperature. The closer to the equator the warmer the temperatures. \n",
    "The correlation is particularly strong in the northern hemisphere right now because we are in our winter. So the colder numbers in the higher latitudes are creating a stronger slope."
   ]
  },
  {
   "cell_type": "markdown",
   "metadata": {},
   "source": [
    "####  Northern Hemisphere - Humidity (%) vs. Latitude Linear Regression"
   ]
  },
  {
   "cell_type": "code",
   "execution_count": 38,
   "metadata": {},
   "outputs": [
    {
     "name": "stdout",
     "output_type": "stream",
     "text": [
      "The correlation between latitude and humidity in the Northern Hemisphere is 0.4435807410612343\n",
      "\n"
     ]
    },
    {
     "data": {
      "image/png": "[encoded data removed]",
      "text/plain": [
       "<Figure size 432x288 with 1 Axes>"
      ]
     },
     "metadata": {
      "needs_background": "light"
     },
     "output_type": "display_data"
    }
   ],
   "source": [
    "# lat vs temp basic plot\n",
    "x_lat_north = northern_df['lat']\n",
    "y_humidity_north = northern_df['humidity']\n",
    "plt.scatter(x_lat_north, y_humidity_north)\n",
    "\n",
    "# titles, labels, and design elements\n",
    "plt.title(f'Northern Hemisphere Latitude vs Humidity (F) on {run_date}')\n",
    "plt.xlabel('latitude')\n",
    "plt.ylabel('humidity')\n",
    "plt.grid()\n",
    "\n",
    "# linear regression\n",
    "(slope, intercept, rvalue, pvalue, stderr) = linregress(x_lat_north, y_humidity_north)\n",
    "regress_values = x_lat_north * slope + intercept\n",
    "line_eq = \"y = \" + str(round(slope,2)) + \"x + \" + str(round(intercept,2))\n",
    "plt.scatter(x_lat_north, y_humidity_north)\n",
    "plt.plot(x_lat_north,regress_values,\"r-\")\n",
    "\n",
    "plt.annotate(line_eq,(45, 30),fontsize=12,color=\"red\")\n",
    "\n",
    "print(f\"The correlation between latitude and humidity in the Northern Hemisphere is {rvalue}\")\n",
    "print(\"\")\n",
    "\n",
    "# display plot\n",
    "plt.show()"
   ]
  },
  {
   "cell_type": "markdown",
   "metadata": {},
   "source": [
    "####  Southern Hemisphere - Humidity (%) vs. Latitude Linear Regression"
   ]
  },
  {
   "cell_type": "code",
   "execution_count": 39,
   "metadata": {},
   "outputs": [
    {
     "name": "stdout",
     "output_type": "stream",
     "text": [
      "The correlation between latitude and max temperature(F) in the Southern Hemisphere is 0.24453068439538356\n",
      "\n"
     ]
    },
    {
     "data": {
      "image/png": "[encoded data removed]",
      "text/plain": [
       "<Figure size 432x288 with 1 Axes>"
      ]
     },
     "metadata": {
      "needs_background": "light"
     },
     "output_type": "display_data"
    }
   ],
   "source": [
    "# lat vs temp basic plot\n",
    "x_lat_south = southern_df['lat']\n",
    "y_humidity_south = southern_df['humidity']\n",
    "plt.scatter(x_lat_south, y_humidity_south)\n",
    "\n",
    "# titles, labels, and design elements\n",
    "plt.title(f'Southern Hemisphere Latitude vs Humidity (F) on {run_date}')\n",
    "plt.xlabel('latitude')\n",
    "plt.ylabel('humidity')\n",
    "plt.grid()\n",
    "\n",
    "# linear regression\n",
    "(slope, intercept, rvalue, pvalue, stderr) = linregress(x_lat_south, y_humidity_south)\n",
    "regress_values = x_lat_south * slope + intercept\n",
    "line_eq = \"y = \" + str(round(slope,2)) + \"x + \" + str(round(intercept,2))\n",
    "plt.scatter(x_lat_south, y_humidity_south)\n",
    "plt.plot(x_lat_south,regress_values,\"r-\")\n",
    "\n",
    "plt.annotate(line_eq,(-23, 30),fontsize=12,color=\"red\")\n",
    "\n",
    "print(f\"The correlation between latitude and max temperature(F) in the Southern Hemisphere is {rvalue}\")\n",
    "print(\"\")\n",
    "\n",
    "# display plot\n",
    "plt.show()"
   ]
  },
  {
   "cell_type": "markdown",
   "metadata": {},
   "source": [
    "## North and South Latitude vs. Humidity Plot commentary\n",
    "In these two plots we see no particular correlation between latitude and humidity."
   ]
  },
  {
   "cell_type": "markdown",
   "metadata": {},
   "source": [
    "####  Northern Hemisphere - Cloudiness (%) vs. Latitude Linear Regression"
   ]
  },
  {
   "cell_type": "code",
   "execution_count": 40,
   "metadata": {},
   "outputs": [
    {
     "name": "stdout",
     "output_type": "stream",
     "text": [
      "The correlation between latitude and cloudiness in the Northern Hemisphere is 0.2630579517638954\n",
      "\n"
     ]
    },
    {
     "data": {
      "image/png": "[encoded data removed]",
      "text/plain": [
       "<Figure size 432x288 with 1 Axes>"
      ]
     },
     "metadata": {
      "needs_background": "light"
     },
     "output_type": "display_data"
    }
   ],
   "source": [
    "# lat vs temp basic plot\n",
    "x_lat_north = northern_df['lat']\n",
    "y_cloudiness_north = northern_df['cloudiness']\n",
    "plt.scatter(x_lat_north, y_cloudiness_north)\n",
    "\n",
    "# titles, labels, and design elements\n",
    "plt.title(f'Northern Hemisphere Latitude vs Cloudiness on {run_date}')\n",
    "plt.xlabel('latitude')\n",
    "plt.ylabel('cloudiness')\n",
    "plt.grid()\n",
    "\n",
    "# linear regression\n",
    "(slope, intercept, rvalue, pvalue, stderr) = linregress(x_lat_north, y_cloudiness_north)\n",
    "regress_values = x_lat_north * slope + intercept\n",
    "line_eq = \"y = \" + str(round(slope,2)) + \"x + \" + str(round(intercept,2))\n",
    "plt.scatter(x_lat_north, y_cloudiness_north)\n",
    "plt.plot(x_lat_north,regress_values,\"r-\")\n",
    "\n",
    "plt.annotate(line_eq,(40, 30),fontsize=12,color=\"red\")\n",
    "\n",
    "print(f\"The correlation between latitude and cloudiness in the Northern Hemisphere is {rvalue}\")\n",
    "print(\"\")\n",
    "\n",
    "# display plot\n",
    "plt.show()"
   ]
  },
  {
   "cell_type": "markdown",
   "metadata": {},
   "source": [
    "####  Southern Hemisphere - Cloudiness (%) vs. Latitude Linear Regression"
   ]
  },
  {
   "cell_type": "code",
   "execution_count": 41,
   "metadata": {},
   "outputs": [
    {
     "name": "stdout",
     "output_type": "stream",
     "text": [
      "The correlation between latitude and cloudiness in the Southern Hemisphere is 0.34263110361487226\n",
      "\n"
     ]
    },
    {
     "data": {
      "image/png": "[encoded data removed]",
      "text/plain": [
       "<Figure size 432x288 with 1 Axes>"
      ]
     },
     "metadata": {
      "needs_background": "light"
     },
     "output_type": "display_data"
    }
   ],
   "source": [
    "# lat vs temp basic plot\n",
    "x_lat_south = southern_df['lat']\n",
    "y_cloudiness_south = southern_df['cloudiness']\n",
    "plt.scatter(x_lat_south, y_cloudiness_south)\n",
    "\n",
    "# titles, labels, and design elements\n",
    "plt.title(f'Southern Hemisphere Latitude vs Cloudiness on {run_date}')\n",
    "plt.xlabel('latitude')\n",
    "plt.ylabel('cloudiness')\n",
    "plt.grid()\n",
    "\n",
    "# linear regression\n",
    "(slope, intercept, rvalue, pvalue, stderr) = linregress(x_lat_south, y_cloudiness_south)\n",
    "regress_values = x_lat_south * slope + intercept\n",
    "line_eq = \"y = \" + str(round(slope,2)) + \"x + \" + str(round(intercept,2))\n",
    "plt.scatter(x_lat_south, y_cloudiness_south)\n",
    "plt.plot(x_lat_south,regress_values,\"r-\")\n",
    "\n",
    "plt.annotate(line_eq,(-55, 10),fontsize=12,color=\"red\")\n",
    "\n",
    "print(f\"The correlation between latitude and cloudiness in the Southern Hemisphere is {rvalue}\")\n",
    "print(\"\")\n",
    "\n",
    "# display plot\n",
    "plt.show()"
   ]
  },
  {
   "cell_type": "markdown",
   "metadata": {},
   "source": [
    "## North and South Latitude vs. Cloudiness Plot commentary\n",
    "In these two plots we see no correlation between latitude and cloudiness."
   ]
  },
  {
   "cell_type": "markdown",
   "metadata": {},
   "source": [
    "####  Northern Hemisphere - Wind Speed (mph) vs. Latitude Linear Regression"
   ]
  },
  {
   "cell_type": "code",
   "execution_count": 42,
   "metadata": {},
   "outputs": [
    {
     "name": "stdout",
     "output_type": "stream",
     "text": [
      "The correlation between latitude and wind speed in the Northern Hemisphere is 0.1689419174389638\n",
      "\n"
     ]
    },
    {
     "data": {
      "image/png": "[encoded data removed]",
      "text/plain": [
       "<Figure size 432x288 with 1 Axes>"
      ]
     },
     "metadata": {
      "needs_background": "light"
     },
     "output_type": "display_data"
    }
   ],
   "source": [
    "# lat vs temp basic plot\n",
    "x_lat_north = northern_df['lat']\n",
    "y_windspeed_north = northern_df['wind speed']\n",
    "plt.scatter(x_lat_north, y_windspeed_north)\n",
    "\n",
    "# titles, labels, and design elements\n",
    "plt.title(f'Northern Hemisphere Latitude vs Wind Speed on {run_date}')\n",
    "plt.xlabel('latitude')\n",
    "plt.ylabel('windspeed')\n",
    "plt.grid()\n",
    "\n",
    "# linear regression\n",
    "(slope, intercept, rvalue, pvalue, stderr) = linregress(x_lat_north, y_windspeed_north)\n",
    "regress_values = x_lat_north * slope + intercept\n",
    "line_eq = \"y = \" + str(round(slope,2)) + \"x + \" + str(round(intercept,2))\n",
    "plt.scatter(x_lat_north, y_windspeed_north)\n",
    "plt.plot(x_lat_north,regress_values,\"r-\")\n",
    "\n",
    "plt.annotate(line_eq,(5, 32),fontsize=12,color=\"red\")\n",
    "\n",
    "print(f\"The correlation between latitude and wind speed in the Northern Hemisphere is {rvalue}\")\n",
    "print(\"\")\n",
    "\n",
    "# display plot\n",
    "plt.show()"
   ]
  },
  {
   "cell_type": "markdown",
   "metadata": {},
   "source": [
    "####  Southern Hemisphere - Wind Speed (mph) vs. Latitude Linear Regression"
   ]
  },
  {
   "cell_type": "code",
   "execution_count": 43,
   "metadata": {},
   "outputs": [
    {
     "name": "stdout",
     "output_type": "stream",
     "text": [
      "The correlation between latitude and wind speed in the Southrn Hemisphere is -0.1439140052130746\n",
      "\n"
     ]
    },
    {
     "data": {
      "image/png": "[encoded data removed]",
      "text/plain": [
       "<Figure size 432x288 with 1 Axes>"
      ]
     },
     "metadata": {
      "needs_background": "light"
     },
     "output_type": "display_data"
    }
   ],
   "source": [
    "# lat vs temp basic plot\n",
    "x_lat_south = southern_df['lat']\n",
    "y_windspeed_south = southern_df['wind speed']\n",
    "plt.scatter(x_lat_south, y_windspeed_south)\n",
    "\n",
    "# titles, labels, and design elements\n",
    "plt.title(f'Southern Hemisphere Latitude vs Wind Speed on {run_date}')\n",
    "plt.xlabel('latitude')\n",
    "plt.ylabel('wind speed')\n",
    "plt.grid()\n",
    "\n",
    "# linear regression\n",
    "(slope, intercept, rvalue, pvalue, stderr) = linregress(x_lat_south, y_windspeed_south)\n",
    "regress_values = x_lat_south * slope + intercept\n",
    "line_eq = \"y = \" + str(round(slope,2)) + \"x + \" + str(round(intercept,2))\n",
    "plt.scatter(x_lat_south, y_windspeed_south)\n",
    "plt.plot(x_lat_south,regress_values,\"r-\")\n",
    "\n",
    "plt.annotate(line_eq,(-55, 26),fontsize=12,color=\"red\")\n",
    "\n",
    "print(f\"The correlation between latitude and wind speed in the Southrn Hemisphere is {rvalue}\")\n",
    "print(\"\")\n",
    "\n",
    "# display plot\n",
    "plt.show()"
   ]
  },
  {
   "cell_type": "markdown",
   "metadata": {},
   "source": [
    "## North and South Latitude vs. Humidity Plot commentary\n",
    "In these two plots we see no correlation between latitude and humidity."
   ]
  },
  {
   "cell_type": "code",
   "execution_count": null,
   "metadata": {},
   "outputs": [],
   "source": []
  }
 ],
 "metadata": {
  "anaconda-cloud": {},
  "kernel_info": {
   "name": "python3"
  },
  "kernelspec": {
   "display_name": "Python 3 (ipykernel)",
   "language": "python",
   "name": "python3"
  },
  "language_info": {
   "codemirror_mode": {
    "name": "ipython",
    "version": 3
   },
   "file_extension": ".py",
   "mimetype": "text/x-python",
   "name": "python",
   "nbconvert_exporter": "python",
   "pygments_lexer": "ipython3",
   "version": "3.9.7"
  },
  "latex_envs": {
   "LaTeX_envs_menu_present": true,
   "autoclose": false,
   "autocomplete": true,
   "bibliofile": "biblio.bib",
   "cite_by": "apalike",
   "current_citInitial": 1,
   "eqLabelWithNumbers": true,
   "eqNumInitial": 1,
   "hotkeys": {
    "equation": "Ctrl-E",
    "itemize": "Ctrl-I"
   },
   "labels_anchors": false,
   "latex_user_defs": false,
   "report_style_numbering": false,
   "user_envs_cfg": false
  },
  "nteract": {
   "version": "0.12.3"
  }
 },
 "nbformat": 4,
 "nbformat_minor": 4
}
