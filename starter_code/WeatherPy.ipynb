{
 "cells": [
  {
   "cell_type": "markdown",
   "metadata": {},
   "source": [
    "# WeatherPy\n",
    "----\n",
    "\n",
    "#### Note\n",
    "* Instructions have been included for each segment. You do not have to follow them exactly, but they are included to help you think through the steps."
   ]
  },
  {
   "cell_type": "code",
   "execution_count": 29,
   "metadata": {
    "scrolled": true
   },
   "outputs": [],
   "source": [
    "# Dependencies and Setup\n",
    "import matplotlib.pyplot as plt\n",
    "import pandas as pd\n",
    "import numpy as np\n",
    "import requests\n",
    "import time\n",
    "import scipy.stats as st\n",
    "from scipy.stats import linregress\n",
    "from pprint import pprint\n",
    "\n",
    "# Import API key\n",
    "from api_keys import weather_api_key\n",
    "\n",
    "# Incorporated citipy to determine city based on latitude and longitude\n",
    "from citipy import citipy\n",
    "\n",
    "# Output File (CSV)\n",
    "output_data_file = \"../output_data/cities.csv\"\n",
    "\n",
    "# Range of latitudes and longitudes\n",
    "lat_range = (-90, 90)\n",
    "lng_range = (-180, 180)\n"
   ]
  },
  {
   "cell_type": "markdown",
   "metadata": {},
   "source": [
    "## Generate Cities List"
   ]
  },
  {
   "cell_type": "code",
   "execution_count": 3,
   "metadata": {
    "tags": []
   },
   "outputs": [
    {
     "data": {
      "text/plain": [
       "9"
      ]
     },
     "execution_count": 3,
     "metadata": {},
     "output_type": "execute_result"
    }
   ],
   "source": [
    "# List for holding lat_lngs and cities\n",
    "lat_lngs = []\n",
    "cities = []\n",
    "\n",
    "# Create a set of random lat and lng combinations\n",
    "lats = np.random.uniform(lat_range[0], lat_range[1], size=10)\n",
    "lngs = np.random.uniform(lng_range[0], lng_range[1], size=10)\n",
    "lat_lngs = zip(lats, lngs)\n",
    "\n",
    "# Identify nearest city for each lat, lng combination\n",
    "for lat_lng in lat_lngs:\n",
    "    city = citipy.nearest_city(lat_lng[0], lat_lng[1]).city_name\n",
    "    \n",
    "    # If the city is unique, then add it to a our cities list\n",
    "    if city not in cities:\n",
    "        cities.append(city)\n",
    "\n",
    "# Print the city count to confirm sufficient count\n",
    "len(cities)"
   ]
  },
  {
   "cell_type": "markdown",
   "metadata": {},
   "source": [
    "### Perform API Calls\n",
    "* Perform a weather check on each city using a series of successive API calls.\n",
    "* Include a print log of each city as it'sbeing processed (with the city number and city name).\n"
   ]
  },
  {
   "cell_type": "code",
   "execution_count": 4,
   "metadata": {},
   "outputs": [
    {
     "data": {
      "text/plain": [
       "'http://api.openweathermap.org/data/2.5/weather?appid=e3ccf44e02cf0a5895ed131fd26f64b2&units=imperial&q='"
      ]
     },
     "execution_count": 4,
     "metadata": {},
     "output_type": "execute_result"
    }
   ],
   "source": [
    "# Save config information.\n",
    "url = \"http://api.openweathermap.org/data/2.5/weather?\"\n",
    "units = \"imperial\"\n",
    "\n",
    "# Build partial query URL\n",
    "query_url = f\"{url}appid={weather_api_key}&units={units}&q=\"\n",
    "query_url"
   ]
  },
  {
   "cell_type": "code",
   "execution_count": 5,
   "metadata": {},
   "outputs": [
    {
     "name": "stdout",
     "output_type": "stream",
     "text": [
      "{'base': 'stations',\n",
      " 'clouds': {'all': 20},\n",
      " 'cod': 200,\n",
      " 'coord': {'lat': -33.65, 'lon': 115.3333},\n",
      " 'dt': 1644096582,\n",
      " 'id': 2075265,\n",
      " 'main': {'feels_like': 65.44,\n",
      "          'grnd_level': 1001,\n",
      "          'humidity': 89,\n",
      "          'pressure': 1001,\n",
      "          'sea_level': 1001,\n",
      "          'temp': 65.05,\n",
      "          'temp_max': 65.05,\n",
      "          'temp_min': 65.05},\n",
      " 'name': 'Busselton',\n",
      " 'sys': {'country': 'AU',\n",
      "         'id': 2020551,\n",
      "         'sunrise': 1644097517,\n",
      "         'sunset': 1644146410,\n",
      "         'type': 2},\n",
      " 'timezone': 28800,\n",
      " 'visibility': 10000,\n",
      " 'weather': [{'description': 'few clouds',\n",
      "              'icon': '02n',\n",
      "              'id': 801,\n",
      "              'main': 'Clouds'}],\n",
      " 'wind': {'deg': 214, 'gust': 8.93, 'speed': 6.62}}\n"
     ]
    }
   ],
   "source": [
    "weather_response = requests.get(query_url + city)\n",
    "weather_json = weather_response.json()\n",
    "pprint(weather_json)"
   ]
  },
  {
   "cell_type": "code",
   "execution_count": 6,
   "metadata": {},
   "outputs": [
    {
     "name": "stdout",
     "output_type": "stream",
     "text": [
      "Weather check for city 0: severo-kurilsk\n",
      "Weather check for city 1: tuatapere\n",
      "Weather check for city 2: busselton\n",
      "Weather check for city 3: vila velha\n",
      "Missing result... city 4: umzimvubu NOT FOUND\n",
      "Weather check for city 5: keti bandar\n",
      "Weather check for city 6: alice springs\n",
      "Weather check for city 7: ushuaia\n",
      "Weather check for city 8: nelson bay\n"
     ]
    }
   ],
   "source": [
    "# set up lists to hold reponse info\n",
    "thiscity = []\n",
    "lat = []\n",
    "lon = []\n",
    "max_temp = []\n",
    "humidity = []\n",
    "cloudiness = []\n",
    "wind_speed = []\n",
    "country = []\n",
    "date = []\n",
    "\n",
    "# Loop through the list of cities and perform a request for data on each\n",
    "for idx, city in enumerate(cities):\n",
    "    try:\n",
    "        response = requests.get(query_url + city).json()\n",
    "        thiscity.append(response['name'])\n",
    "        lat.append(response['coord']['lat'])\n",
    "        lon.append(response['coord']['lon'])\n",
    "        max_temp.append(response['main']['temp_max'])\n",
    "        humidity.append(response['main']['humidity'])\n",
    "        cloudiness.append(response['clouds']['all'])\n",
    "        wind_speed.append(response['wind']['speed'])\n",
    "        country.append(response['sys']['country'])\n",
    "        date.append(response['dt'])                  \n",
    "        print(f\"Weather check for city {idx}: {city}\")\n",
    "    \n",
    "    except:\n",
    "        print(f\"Missing result... city {idx}: {city} NOT FOUND\")"
   ]
  },
  {
   "cell_type": "markdown",
   "metadata": {},
   "source": [
    "### Convert Raw Data to DataFrame\n",
    "* Export the city data into a .csv.\n",
    "* Display the DataFrame"
   ]
  },
  {
   "cell_type": "code",
   "execution_count": 12,
   "metadata": {},
   "outputs": [
    {
     "name": "stdout",
     "output_type": "stream",
     "text": [
      "8\n",
      "8\n",
      "8\n",
      "8\n"
     ]
    }
   ],
   "source": [
    "print(len(thiscity))\n",
    "print(len(lat))\n",
    "print(len(lon))\n",
    "print(len(max_temp))"
   ]
  },
  {
   "cell_type": "code",
   "execution_count": 11,
   "metadata": {},
   "outputs": [
    {
     "data": {
      "text/html": [
       "<div>\n",
       "<style scoped>\n",
       "    .dataframe tbody tr th:only-of-type {\n",
       "        vertical-align: middle;\n",
       "    }\n",
       "\n",
       "    .dataframe tbody tr th {\n",
       "        vertical-align: top;\n",
       "    }\n",
       "\n",
       "    .dataframe thead th {\n",
       "        text-align: right;\n",
       "    }\n",
       "</style>\n",
       "<table border=\"1\" class=\"dataframe\">\n",
       "  <thead>\n",
       "    <tr style=\"text-align: right;\">\n",
       "      <th></th>\n",
       "      <th>city</th>\n",
       "      <th>lat</th>\n",
       "      <th>lon</th>\n",
       "      <th>max temp</th>\n",
       "      <th>humidity</th>\n",
       "      <th>cloudiness</th>\n",
       "      <th>wind speed</th>\n",
       "      <th>country</th>\n",
       "      <th>date</th>\n",
       "    </tr>\n",
       "  </thead>\n",
       "  <tbody>\n",
       "    <tr>\n",
       "      <th>0</th>\n",
       "      <td>Severo-Kuril'sk</td>\n",
       "      <td>50.6789</td>\n",
       "      <td>156.1250</td>\n",
       "      <td>28.17</td>\n",
       "      <td>86</td>\n",
       "      <td>100</td>\n",
       "      <td>5.91</td>\n",
       "      <td>RU</td>\n",
       "      <td>1644096582</td>\n",
       "    </tr>\n",
       "    <tr>\n",
       "      <th>1</th>\n",
       "      <td>Tuatapere</td>\n",
       "      <td>-46.1333</td>\n",
       "      <td>167.6833</td>\n",
       "      <td>53.82</td>\n",
       "      <td>82</td>\n",
       "      <td>99</td>\n",
       "      <td>3.80</td>\n",
       "      <td>NZ</td>\n",
       "      <td>1644096583</td>\n",
       "    </tr>\n",
       "    <tr>\n",
       "      <th>2</th>\n",
       "      <td>Busselton</td>\n",
       "      <td>-33.6500</td>\n",
       "      <td>115.3333</td>\n",
       "      <td>65.05</td>\n",
       "      <td>89</td>\n",
       "      <td>20</td>\n",
       "      <td>6.62</td>\n",
       "      <td>AU</td>\n",
       "      <td>1644096582</td>\n",
       "    </tr>\n",
       "    <tr>\n",
       "      <th>3</th>\n",
       "      <td>Vila Velha</td>\n",
       "      <td>-20.3297</td>\n",
       "      <td>-40.2925</td>\n",
       "      <td>78.75</td>\n",
       "      <td>85</td>\n",
       "      <td>40</td>\n",
       "      <td>7.00</td>\n",
       "      <td>BR</td>\n",
       "      <td>1644096308</td>\n",
       "    </tr>\n",
       "    <tr>\n",
       "      <th>4</th>\n",
       "      <td>Keti Bandar</td>\n",
       "      <td>24.1447</td>\n",
       "      <td>67.4497</td>\n",
       "      <td>69.94</td>\n",
       "      <td>61</td>\n",
       "      <td>0</td>\n",
       "      <td>9.08</td>\n",
       "      <td>PK</td>\n",
       "      <td>1644096583</td>\n",
       "    </tr>\n",
       "    <tr>\n",
       "      <th>5</th>\n",
       "      <td>Alice Springs</td>\n",
       "      <td>-23.7000</td>\n",
       "      <td>133.8833</td>\n",
       "      <td>56.75</td>\n",
       "      <td>88</td>\n",
       "      <td>0</td>\n",
       "      <td>0.00</td>\n",
       "      <td>AU</td>\n",
       "      <td>1644096584</td>\n",
       "    </tr>\n",
       "    <tr>\n",
       "      <th>6</th>\n",
       "      <td>Ushuaia</td>\n",
       "      <td>-54.8000</td>\n",
       "      <td>-68.3000</td>\n",
       "      <td>55.06</td>\n",
       "      <td>71</td>\n",
       "      <td>40</td>\n",
       "      <td>23.02</td>\n",
       "      <td>AR</td>\n",
       "      <td>1644096269</td>\n",
       "    </tr>\n",
       "    <tr>\n",
       "      <th>7</th>\n",
       "      <td>Nelson Bay</td>\n",
       "      <td>-32.7167</td>\n",
       "      <td>152.1500</td>\n",
       "      <td>73.00</td>\n",
       "      <td>63</td>\n",
       "      <td>93</td>\n",
       "      <td>4.00</td>\n",
       "      <td>AU</td>\n",
       "      <td>1644096584</td>\n",
       "    </tr>\n",
       "  </tbody>\n",
       "</table>\n",
       "</div>"
      ],
      "text/plain": [
       "              city      lat       lon  max temp  humidity  cloudiness  \\\n",
       "0  Severo-Kuril'sk  50.6789  156.1250     28.17        86         100   \n",
       "1        Tuatapere -46.1333  167.6833     53.82        82          99   \n",
       "2        Busselton -33.6500  115.3333     65.05        89          20   \n",
       "3       Vila Velha -20.3297  -40.2925     78.75        85          40   \n",
       "4      Keti Bandar  24.1447   67.4497     69.94        61           0   \n",
       "5    Alice Springs -23.7000  133.8833     56.75        88           0   \n",
       "6          Ushuaia -54.8000  -68.3000     55.06        71          40   \n",
       "7       Nelson Bay -32.7167  152.1500     73.00        63          93   \n",
       "\n",
       "   wind speed country        date  \n",
       "0        5.91      RU  1644096582  \n",
       "1        3.80      NZ  1644096583  \n",
       "2        6.62      AU  1644096582  \n",
       "3        7.00      BR  1644096308  \n",
       "4        9.08      PK  1644096583  \n",
       "5        0.00      AU  1644096584  \n",
       "6       23.02      AR  1644096269  \n",
       "7        4.00      AU  1644096584  "
      ]
     },
     "execution_count": 11,
     "metadata": {},
     "output_type": "execute_result"
    }
   ],
   "source": [
    "# create the data frame\n",
    "weather_dict = {\n",
    "    'city': thiscity,\n",
    "    'lat': lat,\n",
    "    'lon': lon,\n",
    "    'max temp': max_temp,\n",
    "    'humidity': humidity,\n",
    "    'cloudiness': cloudiness,\n",
    "    'wind speed': wind_speed,\n",
    "    'country': country,\n",
    "    'date': date\n",
    "}\n",
    "city_df = pd.DataFrame(weather_dict)\n",
    "city_df"
   ]
  },
  {
   "cell_type": "code",
   "execution_count": 13,
   "metadata": {},
   "outputs": [],
   "source": [
    "# export to a CSV\n",
    "city_df.to_csv(output_data_file)"
   ]
  },
  {
   "cell_type": "markdown",
   "metadata": {},
   "source": [
    "## Inspect the data and remove the cities where the humidity > 100%.\n",
    "----\n",
    "Skip this step if there are no cities that have humidity > 100%. "
   ]
  },
  {
   "cell_type": "code",
   "execution_count": 14,
   "metadata": {},
   "outputs": [
    {
     "data": {
      "text/plain": [
       "Int64Index([], dtype='int64')"
      ]
     },
     "execution_count": 14,
     "metadata": {},
     "output_type": "execute_result"
    }
   ],
   "source": [
    "#  Get the indices of cities that have humidity over 100%.\n",
    "high_humidity_df = city_df[(city_df['humidity'] > 100)]\n",
    "high_humidity_df.index"
   ]
  },
  {
   "cell_type": "code",
   "execution_count": null,
   "metadata": {},
   "outputs": [],
   "source": [
    "# Make a new DataFrame equal to the city data to drop all humidity outliers by index.\n",
    "# Passing \"inplace=False\" will make a copy of the city_data DataFrame, which we call \"clean_city_data\".\n",
    "\n",
    "#clean_city_df = city_df.join(high_humidity_df, how='outer')\n",
    "#clean_city_df = pd.merge(city_df, high_humidity_df, on=index)\n",
    "#clean_city_df"
   ]
  },
  {
   "cell_type": "markdown",
   "metadata": {},
   "source": [
    "## Plotting the Data\n",
    "* Use proper labeling of the plots using plot titles (including date of analysis) and axes labels.\n",
    "* Save the plotted figures as .pngs."
   ]
  },
  {
   "cell_type": "markdown",
   "metadata": {},
   "source": [
    "## Latitude vs. Temperature Plot"
   ]
  },
  {
   "cell_type": "code",
   "execution_count": 15,
   "metadata": {},
   "outputs": [
    {
     "data": {
      "text/plain": [
       "Timestamp('2022-02-05 21:29:42')"
      ]
     },
     "execution_count": 15,
     "metadata": {},
     "output_type": "execute_result"
    }
   ],
   "source": [
    "# date of analysis\n",
    "find_date = city_df[\"date\"][0]\n",
    "run_date = pd.to_datetime(find_date, unit='s')\n",
    "run_date"
   ]
  },
  {
   "cell_type": "code",
   "execution_count": 44,
   "metadata": {},
   "outputs": [
    {
     "data": {
      "image/png": "[encoded data removed]",
      "text/plain": [
       "<Figure size 432x288 with 1 Axes>"
      ]
     },
     "metadata": {
      "needs_background": "light"
     },
     "output_type": "display_data"
    }
   ],
   "source": [
    "# lat vs temp basic plot\n",
    "x_lat = city_df['lat']\n",
    "y_maxtemp = city_df['max temp']\n",
    "plt.scatter(x_lat, y_maxtemp)\n",
    "\n",
    "# titles, labels, and design elements\n",
    "plt.title(f'Latitude vs Temperature on {run_date}')\n",
    "plt.xlabel('latitude')\n",
    "plt.ylabel('maximum temperature (F)')\n",
    "plt.grid()\n",
    "\n",
    "# display plot\n",
    "plt.show()"
   ]
  },
  {
   "cell_type": "code",
   "execution_count": 17,
   "metadata": {
    "scrolled": true
   },
   "outputs": [
    {
     "data": {
      "text/plain": [
       "<Figure size 432x288 with 0 Axes>"
      ]
     },
     "metadata": {},
     "output_type": "display_data"
    }
   ],
   "source": [
    "# export .png to file\n",
    "plt.savefig(\"../output_data/LatVsTemp.png\")"
   ]
  },
  {
   "cell_type": "markdown",
   "metadata": {},
   "source": [
    "## Latitude vs. Humidity Plot"
   ]
  },
  {
   "cell_type": "code",
   "execution_count": 45,
   "metadata": {},
   "outputs": [
    {
     "data": {
      "image/png": "[encoded data removed]",
      "text/plain": [
       "<Figure size 432x288 with 1 Axes>"
      ]
     },
     "metadata": {
      "needs_background": "light"
     },
     "output_type": "display_data"
    }
   ],
   "source": [
    "# lat vs temp basic plot\n",
    "x_lat = city_df['lat']\n",
    "y_humidity = city_df['humidity']\n",
    "plt.scatter(x_lat, y_humidity)\n",
    "\n",
    "# titles, labels, and design elements\n",
    "plt.title(f'Latitude vs Humidity on {run_date}')\n",
    "plt.xlabel('latitude')\n",
    "plt.ylabel('humidity')\n",
    "plt.grid()\n",
    "\n",
    "# display plot\n",
    "plt.show()"
   ]
  },
  {
   "cell_type": "code",
   "execution_count": 19,
   "metadata": {},
   "outputs": [
    {
     "data": {
      "text/plain": [
       "<Figure size 432x288 with 0 Axes>"
      ]
     },
     "metadata": {},
     "output_type": "display_data"
    }
   ],
   "source": [
    "# export .png to file\n",
    "plt.savefig(\"../output_data/LatVsHumidity.png\")"
   ]
  },
  {
   "cell_type": "markdown",
   "metadata": {},
   "source": [
    "## Latitude vs. Cloudiness Plot"
   ]
  },
  {
   "cell_type": "code",
   "execution_count": 46,
   "metadata": {},
   "outputs": [
    {
     "data": {
      "image/png": "[encoded data removed]",
      "text/plain": [
       "<Figure size 432x288 with 1 Axes>"
      ]
     },
     "metadata": {
      "needs_background": "light"
     },
     "output_type": "display_data"
    }
   ],
   "source": [
    "# lat vs temp basic plot\n",
    "x_lat = city_df['lat']\n",
    "y_cloudiness = city_df['cloudiness']\n",
    "plt.scatter(x_lat, y_cloudiness)\n",
    "\n",
    "# titles, labels, and design elements\n",
    "plt.title(f'Latitude vs Cloudiness on {run_date}')\n",
    "plt.xlabel('latitude')\n",
    "plt.ylabel('cloudiness')\n",
    "plt.grid()\n",
    "\n",
    "# display plot\n",
    "plt.show()"
   ]
  },
  {
   "cell_type": "code",
   "execution_count": 21,
   "metadata": {},
   "outputs": [
    {
     "data": {
      "text/plain": [
       "<Figure size 432x288 with 0 Axes>"
      ]
     },
     "metadata": {},
     "output_type": "display_data"
    }
   ],
   "source": [
    "# export .png to file\n",
    "plt.savefig(\"../output_data/LatVsCloudiness.png\")"
   ]
  },
  {
   "cell_type": "markdown",
   "metadata": {},
   "source": [
    "## Latitude vs. Wind Speed Plot"
   ]
  },
  {
   "cell_type": "code",
   "execution_count": 47,
   "metadata": {},
   "outputs": [
    {
     "data": {
      "image/png": "[encoded data removed]",
      "text/plain": [
       "<Figure size 432x288 with 1 Axes>"
      ]
     },
     "metadata": {
      "needs_background": "light"
     },
     "output_type": "display_data"
    }
   ],
   "source": [
    "# lat vs temp basic plot\n",
    "x_lat = city_df['lat']\n",
    "y_windspeed = city_df['wind speed']\n",
    "plt.scatter(x_lat, y_windspeed)\n",
    "\n",
    "# titles, labels, and design elements\n",
    "plt.title(f'Latitude vs Wind Speed on {run_date}')\n",
    "plt.xlabel('latitude')\n",
    "plt.ylabel('wind speed')\n",
    "plt.grid()\n",
    "\n",
    "# display plot\n",
    "plt.show()"
   ]
  },
  {
   "cell_type": "code",
   "execution_count": 23,
   "metadata": {},
   "outputs": [
    {
     "data": {
      "text/plain": [
       "<Figure size 432x288 with 0 Axes>"
      ]
     },
     "metadata": {},
     "output_type": "display_data"
    }
   ],
   "source": [
    "# export .png to file\n",
    "plt.savefig(\"../output_data/LatVsWindSpeed.png\")"
   ]
  },
  {
   "cell_type": "markdown",
   "metadata": {},
   "source": [
    "## Linear Regression"
   ]
  },
  {
   "cell_type": "code",
   "execution_count": null,
   "metadata": {},
   "outputs": [],
   "source": []
  },
  {
   "cell_type": "code",
   "execution_count": null,
   "metadata": {},
   "outputs": [],
   "source": []
  },
  {
   "cell_type": "code",
   "execution_count": 56,
   "metadata": {},
   "outputs": [],
   "source": [
    "northern_df = city_df.loc[city_df['lat'] > 0]\n",
    "southern_df = city_df.loc[city_df['lat'] < 0]"
   ]
  },
  {
   "cell_type": "markdown",
   "metadata": {},
   "source": [
    "####  Northern Hemisphere - Max Temp vs. Latitude Linear Regression"
   ]
  },
  {
   "cell_type": "code",
   "execution_count": 75,
   "metadata": {},
   "outputs": [
    {
     "name": "stdout",
     "output_type": "stream",
     "text": [
      "The correlation between latitude and max temperature (F) is -1.0\n",
      "\n"
     ]
    },
    {
     "data": {
      "image/png": "[encoded data removed]",
      "text/plain": [
       "<Figure size 432x288 with 1 Axes>"
      ]
     },
     "metadata": {
      "needs_background": "light"
     },
     "output_type": "display_data"
    }
   ],
   "source": [
    "# lat vs temp basic plot\n",
    "x_lat_north = northern_df['lat']\n",
    "y_maxtemp_north = northern_df['max temp']\n",
    "plt.scatter(x_lat_north, y_maxtemp_north)\n",
    "\n",
    "# titles, labels, and design elements\n",
    "plt.title(f'Northern Hemisphere Latitude vs Max Temperature (F) on {run_date}')\n",
    "plt.xlabel('latitude')\n",
    "plt.ylabel('max temperature (F)')\n",
    "plt.grid()\n",
    "\n",
    "# linear regression\n",
    "(slope, intercept, rvalue, pvalue, stderr) = linregress(x_lat_north, y_maxtemp_north)\n",
    "regress_values = x_lat_north * slope + intercept\n",
    "line_eq = \"y = \" + str(round(slope,2)) + \"x + \" + str(round(intercept,2))\n",
    "plt.scatter(x_lat_north, y_maxtemp_north)\n",
    "plt.plot(x_lat_north,regress_values,\"r-\")\n",
    "\n",
    "plt.annotate(line_eq,(40, 50),fontsize=12,color=\"red\")\n",
    "\n",
    "print(f\"The correlation between latitude and max temperature (F) is {rvalue}\")\n",
    "print(\"\")\n",
    "\n",
    "# display plot\n",
    "plt.show()"
   ]
  },
  {
   "cell_type": "markdown",
   "metadata": {},
   "source": [
    "####  Southern Hemisphere - Max Temp vs. Latitude Linear Regression"
   ]
  },
  {
   "cell_type": "code",
   "execution_count": 79,
   "metadata": {},
   "outputs": [
    {
     "name": "stdout",
     "output_type": "stream",
     "text": [
      "The correlation between latitude and max temperature (F) is 0.6557781603547598\n",
      "\n"
     ]
    },
    {
     "data": {
      "image/png": "[encoded data removed]",
      "text/plain": [
       "<Figure size 432x288 with 1 Axes>"
      ]
     },
     "metadata": {
      "needs_background": "light"
     },
     "output_type": "display_data"
    }
   ],
   "source": [
    "# lat vs temp basic plot\n",
    "x_lat_south = southern_df['lat']\n",
    "y_maxtemp_south = southern_df['max temp']\n",
    "plt.scatter(x_lat_south, y_maxtemp_south)\n",
    "\n",
    "# titles, labels, and design elements\n",
    "plt.title(f'Southern Hemisphere Latitude vs Max Temperature (F) on {run_date}')\n",
    "plt.xlabel('latitude')\n",
    "plt.ylabel('max temperature (F)')\n",
    "plt.grid()\n",
    "\n",
    "# linear regression\n",
    "(slope, intercept, rvalue, pvalue, stderr) = linregress(x_lat_south, y_maxtemp_south)\n",
    "regress_values = x_lat_south * slope + intercept\n",
    "line_eq = \"y = \" + str(round(slope,2)) + \"x + \" + str(round(intercept,2))\n",
    "plt.scatter(x_lat_south, y_maxtemp_south)\n",
    "plt.plot(x_lat_south,regress_values,\"r-\")\n",
    "\n",
    "plt.annotate(line_eq,(-55, 65),fontsize=12,color=\"red\")\n",
    "\n",
    "print(f\"The correlation between latitude and max temperature (F) is {rvalue}\")\n",
    "print(\"\")\n",
    "\n",
    "# display plot\n",
    "plt.show()"
   ]
  },
  {
   "cell_type": "markdown",
   "metadata": {},
   "source": [
    "####  Northern Hemisphere - Humidity (%) vs. Latitude Linear Regression"
   ]
  },
  {
   "cell_type": "code",
   "execution_count": 80,
   "metadata": {},
   "outputs": [
    {
     "name": "stdout",
     "output_type": "stream",
     "text": [
      "The correlation between latitude and humidity is 1.0\n",
      "\n"
     ]
    },
    {
     "data": {
      "image/png": "[encoded data removed]",
      "text/plain": [
       "<Figure size 432x288 with 1 Axes>"
      ]
     },
     "metadata": {
      "needs_background": "light"
     },
     "output_type": "display_data"
    }
   ],
   "source": [
    "# lat vs temp basic plot\n",
    "x_lat_north = northern_df['lat']\n",
    "y_humidity_north = northern_df['humidity']\n",
    "plt.scatter(x_lat_north, y_humidity_north)\n",
    "\n",
    "# titles, labels, and design elements\n",
    "plt.title(f'Northern Hemisphere Latitude vs Humidity (F) on {run_date}')\n",
    "plt.xlabel('latitude')\n",
    "plt.ylabel('humidity')\n",
    "plt.grid()\n",
    "\n",
    "# linear regression\n",
    "(slope, intercept, rvalue, pvalue, stderr) = linregress(x_lat_north, y_humidity_north)\n",
    "regress_values = x_lat_north * slope + intercept\n",
    "line_eq = \"y = \" + str(round(slope,2)) + \"x + \" + str(round(intercept,2))\n",
    "plt.scatter(x_lat_north, y_humidity_north)\n",
    "plt.plot(x_lat_north,regress_values,\"r-\")\n",
    "\n",
    "plt.annotate(line_eq,(40, 50),fontsize=12,color=\"red\")\n",
    "\n",
    "print(f\"The correlation between latitude and humidity is {rvalue}\")\n",
    "print(\"\")\n",
    "\n",
    "# display plot\n",
    "plt.show()"
   ]
  },
  {
   "cell_type": "markdown",
   "metadata": {},
   "source": [
    "####  Southern Hemisphere - Humidity (%) vs. Latitude Linear Regression"
   ]
  },
  {
   "cell_type": "code",
   "execution_count": 81,
   "metadata": {},
   "outputs": [
    {
     "name": "stdout",
     "output_type": "stream",
     "text": [
      "The correlation between latitude and max temperature (F) is 0.42661525977055176\n",
      "\n"
     ]
    },
    {
     "data": {
      "image/png": "[encoded data removed]",
      "text/plain": [
       "<Figure size 432x288 with 1 Axes>"
      ]
     },
     "metadata": {
      "needs_background": "light"
     },
     "output_type": "display_data"
    }
   ],
   "source": [
    "# lat vs temp basic plot\n",
    "x_lat_south = southern_df['lat']\n",
    "y_humidity_south = southern_df['humidity']\n",
    "plt.scatter(x_lat_south, y_humidity_south)\n",
    "\n",
    "# titles, labels, and design elements\n",
    "plt.title(f'Southern Hemisphere Latitude vs Humidity (F) on {run_date}')\n",
    "plt.xlabel('latitude')\n",
    "plt.ylabel('humidity')\n",
    "plt.grid()\n",
    "\n",
    "# linear regression\n",
    "(slope, intercept, rvalue, pvalue, stderr) = linregress(x_lat_south, y_humidity_south)\n",
    "regress_values = x_lat_south * slope + intercept\n",
    "line_eq = \"y = \" + str(round(slope,2)) + \"x + \" + str(round(intercept,2))\n",
    "plt.scatter(x_lat_south, y_humidity_south)\n",
    "plt.plot(x_lat_south,regress_values,\"r-\")\n",
    "\n",
    "plt.annotate(line_eq,(-55, 65),fontsize=12,color=\"red\")\n",
    "\n",
    "print(f\"The correlation between latitude and max temperature (F) is {rvalue}\")\n",
    "print(\"\")\n",
    "\n",
    "# display plot\n",
    "plt.show()"
   ]
  },
  {
   "cell_type": "markdown",
   "metadata": {},
   "source": [
    "####  Northern Hemisphere - Cloudiness (%) vs. Latitude Linear Regression"
   ]
  },
  {
   "cell_type": "code",
   "execution_count": 83,
   "metadata": {},
   "outputs": [
    {
     "name": "stdout",
     "output_type": "stream",
     "text": [
      "The correlation between latitude and cloudiness is 1.0\n",
      "\n"
     ]
    },
    {
     "data": {
      "image/png": "[encoded data removed]",
      "text/plain": [
       "<Figure size 432x288 with 1 Axes>"
      ]
     },
     "metadata": {
      "needs_background": "light"
     },
     "output_type": "display_data"
    }
   ],
   "source": [
    "# lat vs temp basic plot\n",
    "x_lat_north = northern_df['lat']\n",
    "y_cloudiness_north = northern_df['cloudiness']\n",
    "plt.scatter(x_lat_north, y_cloudiness_north)\n",
    "\n",
    "# titles, labels, and design elements\n",
    "plt.title(f'Northern Hemisphere Latitude vs Cloudiness on {run_date}')\n",
    "plt.xlabel('latitude')\n",
    "plt.ylabel('cloudiness')\n",
    "plt.grid()\n",
    "\n",
    "# linear regression\n",
    "(slope, intercept, rvalue, pvalue, stderr) = linregress(x_lat_north, y_cloudiness_north)\n",
    "regress_values = x_lat_north * slope + intercept\n",
    "line_eq = \"y = \" + str(round(slope,2)) + \"x + \" + str(round(intercept,2))\n",
    "plt.scatter(x_lat_north, y_cloudiness_north)\n",
    "plt.plot(x_lat_north,regress_values,\"r-\")\n",
    "\n",
    "plt.annotate(line_eq,(40, 50),fontsize=12,color=\"red\")\n",
    "\n",
    "print(f\"The correlation between latitude and cloudiness is {rvalue}\")\n",
    "print(\"\")\n",
    "\n",
    "# display plot\n",
    "plt.show()"
   ]
  },
  {
   "cell_type": "markdown",
   "metadata": {},
   "source": [
    "####  Southern Hemisphere - Cloudiness (%) vs. Latitude Linear Regression"
   ]
  },
  {
   "cell_type": "code",
   "execution_count": 85,
   "metadata": {},
   "outputs": [
    {
     "name": "stdout",
     "output_type": "stream",
     "text": [
      "The correlation between latitude and cloudiness is -0.3851535377710032\n",
      "\n"
     ]
    },
    {
     "data": {
      "image/png": "[encoded data removed]",
      "text/plain": [
       "<Figure size 432x288 with 1 Axes>"
      ]
     },
     "metadata": {
      "needs_background": "light"
     },
     "output_type": "display_data"
    }
   ],
   "source": [
    "# lat vs temp basic plot\n",
    "x_lat_south = southern_df['lat']\n",
    "y_cloudiness_south = southern_df['cloudiness']\n",
    "plt.scatter(x_lat_south, y_cloudiness_south)\n",
    "\n",
    "# titles, labels, and design elements\n",
    "plt.title(f'Southern Hemisphere Latitude vs Cloudiness on {run_date}')\n",
    "plt.xlabel('latitude')\n",
    "plt.ylabel('cloudiness')\n",
    "plt.grid()\n",
    "\n",
    "# linear regression\n",
    "(slope, intercept, rvalue, pvalue, stderr) = linregress(x_lat_south, y_cloudiness_south)\n",
    "regress_values = x_lat_south * slope + intercept\n",
    "line_eq = \"y = \" + str(round(slope,2)) + \"x + \" + str(round(intercept,2))\n",
    "plt.scatter(x_lat_south, y_cloudiness_south)\n",
    "plt.plot(x_lat_south,regress_values,\"r-\")\n",
    "\n",
    "plt.annotate(line_eq,(-55, 20),fontsize=12,color=\"red\")\n",
    "\n",
    "print(f\"The correlation between latitude and cloudiness is {rvalue}\")\n",
    "print(\"\")\n",
    "\n",
    "# display plot\n",
    "plt.show()"
   ]
  },
  {
   "cell_type": "markdown",
   "metadata": {},
   "source": [
    "####  Northern Hemisphere - Wind Speed (mph) vs. Latitude Linear Regression"
   ]
  },
  {
   "cell_type": "code",
   "execution_count": 87,
   "metadata": {},
   "outputs": [
    {
     "name": "stdout",
     "output_type": "stream",
     "text": [
      "The correlation between latitude and wind speed is -1.0\n",
      "\n"
     ]
    },
    {
     "data": {
      "image/png": "[encoded data removed]",
      "text/plain": [
       "<Figure size 432x288 with 1 Axes>"
      ]
     },
     "metadata": {
      "needs_background": "light"
     },
     "output_type": "display_data"
    }
   ],
   "source": [
    "# lat vs temp basic plot\n",
    "x_lat_north = northern_df['lat']\n",
    "y_windspeed_north = northern_df['wind speed']\n",
    "plt.scatter(x_lat_north, y_windspeed_north)\n",
    "\n",
    "# titles, labels, and design elements\n",
    "plt.title(f'Northern Hemisphere Latitude vs Wind Speed on {run_date}')\n",
    "plt.xlabel('latitude')\n",
    "plt.ylabel('windspeed')\n",
    "plt.grid()\n",
    "\n",
    "# linear regression\n",
    "(slope, intercept, rvalue, pvalue, stderr) = linregress(x_lat_north, y_windspeed_north)\n",
    "regress_values = x_lat_north * slope + intercept\n",
    "line_eq = \"y = \" + str(round(slope,2)) + \"x + \" + str(round(intercept,2))\n",
    "plt.scatter(x_lat_north, y_windspeed_north)\n",
    "plt.plot(x_lat_north,regress_values,\"r-\")\n",
    "\n",
    "plt.annotate(line_eq,(40, 7.5),fontsize=12,color=\"red\")\n",
    "\n",
    "print(f\"The correlation between latitude and wind speed is {rvalue}\")\n",
    "print(\"\")\n",
    "\n",
    "# display plot\n",
    "plt.show()"
   ]
  },
  {
   "cell_type": "markdown",
   "metadata": {},
   "source": [
    "####  Southern Hemisphere - Wind Speed (mph) vs. Latitude Linear Regression"
   ]
  },
  {
   "cell_type": "code",
   "execution_count": 88,
   "metadata": {},
   "outputs": [
    {
     "name": "stdout",
     "output_type": "stream",
     "text": [
      "The correlation between latitude and wind speed is -0.6938803818255019\n",
      "\n"
     ]
    },
    {
     "data": {
      "image/png": "[encoded data removed]",
      "text/plain": [
       "<Figure size 432x288 with 1 Axes>"
      ]
     },
     "metadata": {
      "needs_background": "light"
     },
     "output_type": "display_data"
    }
   ],
   "source": [
    "# lat vs temp basic plot\n",
    "x_lat_south = southern_df['lat']\n",
    "y_windspeed_south = southern_df['wind speed']\n",
    "plt.scatter(x_lat_south, y_windspeed_south)\n",
    "\n",
    "# titles, labels, and design elements\n",
    "plt.title(f'Southern Hemisphere Latitude vs Wind Speed on {run_date}')\n",
    "plt.xlabel('latitude')\n",
    "plt.ylabel('wind speed')\n",
    "plt.grid()\n",
    "\n",
    "# linear regression\n",
    "(slope, intercept, rvalue, pvalue, stderr) = linregress(x_lat_south, y_windspeed_south)\n",
    "regress_values = x_lat_south * slope + intercept\n",
    "line_eq = \"y = \" + str(round(slope,2)) + \"x + \" + str(round(intercept,2))\n",
    "plt.scatter(x_lat_south, y_windspeed_south)\n",
    "plt.plot(x_lat_south,regress_values,\"r-\")\n",
    "\n",
    "plt.annotate(line_eq,(-55, 20),fontsize=12,color=\"red\")\n",
    "\n",
    "print(f\"The correlation between latitude and wind speed is {rvalue}\")\n",
    "print(\"\")\n",
    "\n",
    "# display plot\n",
    "plt.show()"
   ]
  },
  {
   "cell_type": "code",
   "execution_count": null,
   "metadata": {},
   "outputs": [],
   "source": []
  }
 ],
 "metadata": {
  "anaconda-cloud": {},
  "kernel_info": {
   "name": "python3"
  },
  "kernelspec": {
   "display_name": "Python 3 (ipykernel)",
   "language": "python",
   "name": "python3"
  },
  "language_info": {
   "codemirror_mode": {
    "name": "ipython",
    "version": 3
   },
   "file_extension": ".py",
   "mimetype": "text/x-python",
   "name": "python",
   "nbconvert_exporter": "python",
   "pygments_lexer": "ipython3",
   "version": "3.9.7"
  },
  "latex_envs": {
   "LaTeX_envs_menu_present": true,
   "autoclose": false,
   "autocomplete": true,
   "bibliofile": "biblio.bib",
   "cite_by": "apalike",
   "current_citInitial": 1,
   "eqLabelWithNumbers": true,
   "eqNumInitial": 1,
   "hotkeys": {
    "equation": "Ctrl-E",
    "itemize": "Ctrl-I"
   },
   "labels_anchors": false,
   "latex_user_defs": false,
   "report_style_numbering": false,
   "user_envs_cfg": false
  },
  "nteract": {
   "version": "0.12.3"
  }
 },
 "nbformat": 4,
 "nbformat_minor": 4
}
