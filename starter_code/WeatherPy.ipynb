{
 "cells": [
  {
   "cell_type": "markdown",
   "metadata": {},
   "source": [
    "# WeatherPy\n",
    "----\n",
    "\n",
    "#### Note\n",
    "* Instructions have been included for each segment. You do not have to follow them exactly, but they are included to help you think through the steps."
   ]
  },
  {
   "cell_type": "code",
   "execution_count": 1,
   "metadata": {
    "scrolled": true
   },
   "outputs": [],
   "source": [
    "# Dependencies and Setup\n",
    "import matplotlib.pyplot as plt\n",
    "import pandas as pd\n",
    "import numpy as np\n",
    "import requests\n",
    "import time\n",
    "import scipy.stats as st\n",
    "from scipy.stats import linregress\n",
    "from pprint import pprint\n",
    "\n",
    "# Import API key\n",
    "from api_keys import weather_api_key\n",
    "\n",
    "# Incorporated citipy to determine city based on latitude and longitude\n",
    "from citipy import citipy\n",
    "\n",
    "# Output File (CSV)\n",
    "output_data_file = \"../output_data/cities.csv\"\n",
    "\n",
    "# Range of latitudes and longitudes\n",
    "lat_range = (-90, 90)\n",
    "lng_range = (-180, 180)\n"
   ]
  },
  {
   "cell_type": "markdown",
   "metadata": {},
   "source": [
    "## Generate Cities List"
   ]
  },
  {
   "cell_type": "code",
   "execution_count": 2,
   "metadata": {
    "tags": []
   },
   "outputs": [
    {
     "data": {
      "text/plain": [
       "294"
      ]
     },
     "execution_count": 2,
     "metadata": {},
     "output_type": "execute_result"
    }
   ],
   "source": [
    "# List for holding lat_lngs and cities\n",
    "lat_lngs = []\n",
    "cities = []\n",
    "\n",
    "# Create a set of random lat and lng combinations\n",
    "lats = np.random.uniform(lat_range[0], lat_range[1], size=500)\n",
    "lngs = np.random.uniform(lng_range[0], lng_range[1], size=500)\n",
    "lat_lngs = zip(lats, lngs)\n",
    "\n",
    "# Identify nearest city for each lat, lng combination\n",
    "for lat_lng in lat_lngs:\n",
    "    city = citipy.nearest_city(lat_lng[0], lat_lng[1]).city_name\n",
    "    \n",
    "    # If the city is unique, then add it to a our cities list\n",
    "    if city not in cities:\n",
    "        cities.append(city)\n",
    "\n",
    "# Print the city count to confirm sufficient count\n",
    "len(cities)"
   ]
  },
  {
   "cell_type": "markdown",
   "metadata": {},
   "source": [
    "### Perform API Calls\n",
    "* Perform a weather check on each city using a series of successive API calls.\n",
    "* Include a print log of each city as it'sbeing processed (with the city number and city name).\n"
   ]
  },
  {
   "cell_type": "code",
   "execution_count": 3,
   "metadata": {},
   "outputs": [
    {
     "data": {
      "text/plain": [
       "'http://api.openweathermap.org/data/2.5/weather?appid=e3ccf44e02cf0a5895ed131fd26f64b2&units=imperial&q='"
      ]
     },
     "execution_count": 3,
     "metadata": {},
     "output_type": "execute_result"
    }
   ],
   "source": [
    "# Save config information.\n",
    "url = \"http://api.openweathermap.org/data/2.5/weather?\"\n",
    "units = \"imperial\"\n",
    "\n",
    "# Build partial query URL\n",
    "query_url = f\"{url}appid={weather_api_key}&units={units}&q=\"\n",
    "query_url"
   ]
  },
  {
   "cell_type": "code",
   "execution_count": 4,
   "metadata": {},
   "outputs": [
    {
     "name": "stdout",
     "output_type": "stream",
     "text": [
      "{'base': 'stations',\n",
      " 'clouds': {'all': 0},\n",
      " 'cod': 200,\n",
      " 'coord': {'lat': 19.7297, 'lon': -155.09},\n",
      " 'dt': 1644342689,\n",
      " 'id': 5855927,\n",
      " 'main': {'feels_like': 63.95,\n",
      "          'humidity': 80,\n",
      "          'pressure': 1019,\n",
      "          'temp': 64.08,\n",
      "          'temp_max': 68.25,\n",
      "          'temp_min': 62.33},\n",
      " 'name': 'Hilo',\n",
      " 'sys': {'country': 'US',\n",
      "         'id': 7881,\n",
      "         'sunrise': 1644339167,\n",
      "         'sunset': 1644380184,\n",
      "         'type': 1},\n",
      " 'timezone': -36000,\n",
      " 'visibility': 10000,\n",
      " 'weather': [{'description': 'clear sky',\n",
      "              'icon': '01d',\n",
      "              'id': 800,\n",
      "              'main': 'Clear'}],\n",
      " 'wind': {'deg': 230, 'speed': 6.91}}\n"
     ]
    }
   ],
   "source": [
    "weather_response = requests.get(query_url + city)\n",
    "weather_json = weather_response.json()\n",
    "pprint(weather_json)"
   ]
  },
  {
   "cell_type": "code",
   "execution_count": 5,
   "metadata": {},
   "outputs": [
    {
     "name": "stdout",
     "output_type": "stream",
     "text": [
      "Weather check for city 0: kruisfontein\n",
      "Weather check for city 1: ushuaia\n",
      "Weather check for city 2: kharp\n",
      "Weather check for city 3: pevek\n",
      "Weather check for city 4: saint-pierre\n",
      "Weather check for city 5: alamos\n",
      "Weather check for city 6: qaanaaq\n",
      "Weather check for city 7: khatanga\n",
      "Missing result... city 8: illoqqortoormiut NOT FOUND\n",
      "Weather check for city 9: rawson\n",
      "Weather check for city 10: saskylakh\n",
      "Weather check for city 11: bor\n",
      "Weather check for city 12: busselton\n",
      "Weather check for city 13: mar del plata\n",
      "Weather check for city 14: atherton\n",
      "Weather check for city 15: mataura\n",
      "Weather check for city 16: parrita\n",
      "Missing result... city 17: kollumerland NOT FOUND\n",
      "Weather check for city 18: kavieng\n",
      "Weather check for city 19: rikitea\n",
      "Weather check for city 20: tabas\n",
      "Weather check for city 21: east london\n",
      "Weather check for city 22: geraldton\n",
      "Weather check for city 23: vaini\n",
      "Weather check for city 24: muros\n",
      "Weather check for city 25: banda aceh\n",
      "Weather check for city 26: belmonte\n",
      "Weather check for city 27: ishigaki\n",
      "Weather check for city 28: de-kastri\n",
      "Weather check for city 29: new norfolk\n",
      "Weather check for city 30: husavik\n",
      "Missing result... city 31: vaitupu NOT FOUND\n",
      "Missing result... city 32: sumbawa NOT FOUND\n",
      "Weather check for city 33: jamestown\n",
      "Missing result... city 34: sentyabrskiy NOT FOUND\n",
      "Weather check for city 35: chopda\n",
      "Weather check for city 36: koryazhma\n",
      "Weather check for city 37: punta arenas\n",
      "Weather check for city 38: adrar\n",
      "Weather check for city 39: port alfred\n",
      "Weather check for city 40: chuy\n",
      "Missing result... city 41: karakendzha NOT FOUND\n",
      "Weather check for city 42: saint-philippe\n",
      "Missing result... city 43: bandar-e torkaman NOT FOUND\n",
      "Missing result... city 44: nizhneyansk NOT FOUND\n",
      "Weather check for city 45: albany\n",
      "Weather check for city 46: kapaa\n",
      "Weather check for city 47: gloria do goita\n",
      "Weather check for city 48: filingue\n",
      "Weather check for city 49: auki\n",
      "Weather check for city 50: vila velha\n",
      "Weather check for city 51: mandalgovi\n",
      "Missing result... city 52: saleaula NOT FOUND\n",
      "Weather check for city 53: seddon\n",
      "Weather check for city 54: coquimbo\n",
      "Weather check for city 55: sabang\n",
      "Weather check for city 56: grindavik\n",
      "Weather check for city 57: shizunai\n",
      "Weather check for city 58: sal rei\n",
      "Missing result... city 59: belushya guba NOT FOUND\n",
      "Weather check for city 60: san patricio\n",
      "Weather check for city 61: upernavik\n",
      "Weather check for city 62: saldanha\n",
      "Weather check for city 63: sao filipe\n",
      "Weather check for city 64: pangai\n",
      "Missing result... city 65: barentsburg NOT FOUND\n",
      "Weather check for city 66: havelock\n",
      "Weather check for city 67: half moon bay\n",
      "Weather check for city 68: cidreira\n",
      "Weather check for city 69: kodiak\n",
      "Missing result... city 70: dinsor NOT FOUND\n",
      "Weather check for city 71: coihaique\n",
      "Weather check for city 72: riyadh\n",
      "Weather check for city 73: hervey bay\n",
      "Weather check for city 74: zhoucheng\n",
      "Weather check for city 75: hofn\n",
      "Weather check for city 76: paris\n",
      "Missing result... city 77: rungata NOT FOUND\n",
      "Weather check for city 78: natal\n",
      "Weather check for city 79: castro\n",
      "Weather check for city 80: qasigiannguit\n",
      "Weather check for city 81: barrow\n",
      "Weather check for city 82: kutum\n",
      "Weather check for city 83: butaritari\n",
      "Weather check for city 84: raudeberg\n",
      "Weather check for city 85: posadas\n",
      "Weather check for city 86: cockburn town\n",
      "Missing result... city 87: grand centre NOT FOUND\n",
      "Weather check for city 88: lavrentiya\n",
      "Missing result... city 89: marcona NOT FOUND\n",
      "Weather check for city 90: cape town\n",
      "Weather check for city 91: krutinka\n",
      "Weather check for city 92: erzin\n",
      "Weather check for city 93: kaitangata\n",
      "Weather check for city 94: tocopilla\n",
      "Weather check for city 95: oktyabrskoye\n",
      "Weather check for city 96: torbay\n",
      "Weather check for city 97: puerto ayora\n",
      "Weather check for city 98: vestmanna\n",
      "Weather check for city 99: maunabo\n",
      "Weather check for city 100: miandoab\n",
      "Weather check for city 101: pinar del rio\n",
      "Weather check for city 102: broken hill\n",
      "Weather check for city 103: constitucion\n",
      "Weather check for city 104: rio grande\n",
      "Weather check for city 105: hirara\n",
      "Weather check for city 106: hilo\n",
      "Weather check for city 107: ledyard\n",
      "Missing result... city 108: samusu NOT FOUND\n",
      "Weather check for city 109: houston\n",
      "Weather check for city 110: tundla\n",
      "Weather check for city 111: hithadhoo\n",
      "Weather check for city 112: gua musang\n",
      "Weather check for city 113: troitskoye\n",
      "Weather check for city 114: dingle\n",
      "Weather check for city 115: belaya gora\n",
      "Weather check for city 116: sangar\n",
      "Weather check for city 117: puerto penasco\n",
      "Weather check for city 118: bredasdorp\n",
      "Weather check for city 119: placido de castro\n",
      "Weather check for city 120: halifax\n",
      "Weather check for city 121: ponta do sol\n",
      "Weather check for city 122: longyearbyen\n",
      "Weather check for city 123: hermanus\n",
      "Weather check for city 124: thompson\n",
      "Weather check for city 125: sao joao da barra\n",
      "Weather check for city 126: iqaluit\n",
      "Weather check for city 127: bosaso\n",
      "Weather check for city 128: lokoja\n",
      "Missing result... city 129: ambodifototra NOT FOUND\n",
      "Weather check for city 130: havre-saint-pierre\n",
      "Weather check for city 131: luanda\n",
      "Weather check for city 132: severo-kurilsk\n",
      "Weather check for city 133: lata\n",
      "Weather check for city 134: gombong\n",
      "Weather check for city 135: saint george\n",
      "Weather check for city 136: tasiilaq\n",
      "Weather check for city 137: bethel\n",
      "Weather check for city 138: nuuk\n",
      "Weather check for city 139: magnor\n",
      "Weather check for city 140: seoul\n",
      "Weather check for city 141: los llanos de aridane\n",
      "Missing result... city 142: lolua NOT FOUND\n",
      "Weather check for city 143: esperance\n",
      "Weather check for city 144: dongsheng\n",
      "Weather check for city 145: yar-sale\n",
      "Missing result... city 146: umzimvubu NOT FOUND\n",
      "Weather check for city 147: atuona\n",
      "Weather check for city 148: isangel\n",
      "Weather check for city 149: okha\n",
      "Weather check for city 150: katsuura\n",
      "Weather check for city 151: port elizabeth\n",
      "Weather check for city 152: vardo\n",
      "Weather check for city 153: namibe\n",
      "Weather check for city 154: hope\n",
      "Weather check for city 155: saint-francois\n",
      "Weather check for city 156: georgetown\n",
      "Weather check for city 157: camacupa\n",
      "Missing result... city 158: grand river south east NOT FOUND\n",
      "Weather check for city 159: lompoc\n",
      "Weather check for city 160: cravo norte\n",
      "Weather check for city 161: fare\n",
      "Weather check for city 162: ballina\n",
      "Weather check for city 163: nara\n",
      "Weather check for city 164: berlevag\n",
      "Weather check for city 165: cabo san lucas\n",
      "Weather check for city 166: dicabisagan\n",
      "Weather check for city 167: hami\n",
      "Weather check for city 168: mnogovershinnyy\n",
      "Weather check for city 169: bulgan\n",
      "Weather check for city 170: bluff\n",
      "Weather check for city 171: pisco\n",
      "Weather check for city 172: ybycui\n",
      "Weather check for city 173: cherskiy\n",
      "Weather check for city 174: poltavka\n",
      "Weather check for city 175: lasa\n",
      "Weather check for city 176: cayenne\n",
      "Weather check for city 177: pacifica\n",
      "Missing result... city 178: attawapiskat NOT FOUND\n",
      "Weather check for city 179: flinders\n",
      "Weather check for city 180: kamenka\n",
      "Missing result... city 181: taolanaro NOT FOUND\n",
      "Weather check for city 182: sisimiut\n",
      "Weather check for city 183: hobart\n",
      "Weather check for city 184: inta\n",
      "Weather check for city 185: tarrafal\n",
      "Weather check for city 186: arraial do cabo\n",
      "Weather check for city 187: malanje\n",
      "Weather check for city 188: mastic beach\n",
      "Missing result... city 189: amderma NOT FOUND\n",
      "Weather check for city 190: tuktoyaktuk\n",
      "Weather check for city 191: poum\n",
      "Weather check for city 192: sharjah\n",
      "Weather check for city 193: amapa\n",
      "Weather check for city 194: kaeo\n",
      "Weather check for city 195: kribi\n",
      "Weather check for city 196: heishan\n",
      "Weather check for city 197: tagusao\n",
      "Missing result... city 198: tunduru NOT FOUND\n",
      "Weather check for city 199: tabuk\n",
      "Weather check for city 200: mahebourg\n",
      "Weather check for city 201: nizwa\n",
      "Weather check for city 202: clyde river\n",
      "Weather check for city 203: avarua\n",
      "Weather check for city 204: yenagoa\n",
      "Weather check for city 205: valdivia\n",
      "Missing result... city 206: skalistyy NOT FOUND\n",
      "Weather check for city 207: ilulissat\n",
      "Weather check for city 208: yellowknife\n",
      "Weather check for city 209: norman wells\n",
      "Weather check for city 210: tamiahua\n",
      "Weather check for city 211: noumea\n",
      "Weather check for city 212: conceicao do araguaia\n",
      "Weather check for city 213: rosetta\n",
      "Weather check for city 214: tiksi\n",
      "Weather check for city 215: nikolskoye\n",
      "Weather check for city 216: comodoro rivadavia\n",
      "Weather check for city 217: praia da vitoria\n",
      "Weather check for city 218: voi\n",
      "Weather check for city 219: hualmay\n",
      "Weather check for city 220: hambantota\n",
      "Weather check for city 221: spornoye\n",
      "Weather check for city 222: ribeira grande\n",
      "Weather check for city 223: benghazi\n",
      "Weather check for city 224: hit\n",
      "Weather check for city 225: mackay\n",
      "Weather check for city 226: airai\n",
      "Missing result... city 227: maloshuyka NOT FOUND\n",
      "Weather check for city 228: mangrol\n",
      "Weather check for city 229: bubaque\n",
      "Weather check for city 230: gat\n",
      "Weather check for city 231: copiapo\n",
      "Weather check for city 232: lagos\n",
      "Weather check for city 233: mahajanga\n",
      "Weather check for city 234: te anau\n",
      "Weather check for city 235: hasaki\n",
      "Weather check for city 236: novobiryusinskiy\n",
      "Weather check for city 237: cadillac\n",
      "Weather check for city 238: palmer\n",
      "Weather check for city 239: bilma\n",
      "Weather check for city 240: maningrida\n",
      "Weather check for city 241: cabra\n",
      "Weather check for city 242: manzhouli\n",
      "Weather check for city 243: antalaha\n",
      "Weather check for city 244: nanakuli\n",
      "Weather check for city 245: winsum\n",
      "Weather check for city 246: viedma\n",
      "Weather check for city 247: sao jose da coroa grande\n",
      "Weather check for city 248: talgar\n",
      "Weather check for city 249: san juan\n",
      "Weather check for city 250: kunhegyes\n",
      "Weather check for city 251: nome\n",
      "Weather check for city 252: carnarvon\n",
      "Weather check for city 253: launceston\n",
      "Weather check for city 254: jardim\n",
      "Weather check for city 255: makakilo city\n",
      "Missing result... city 256: lemesos NOT FOUND\n",
      "Missing result... city 257: yirol NOT FOUND\n",
      "Weather check for city 258: aksarka\n",
      "Weather check for city 259: vao\n",
      "Weather check for city 260: chokurdakh\n",
      "Weather check for city 261: araceli\n",
      "Weather check for city 262: kati\n",
      "Weather check for city 263: clonakilty\n",
      "Weather check for city 264: marathon\n",
      "Weather check for city 265: mulege\n",
      "Weather check for city 266: kardailovo\n",
      "Weather check for city 267: kuju\n",
      "Weather check for city 268: sokolo\n",
      "Weather check for city 269: teguldet\n",
      "Weather check for city 270: kahului\n",
      "Weather check for city 271: mount darwin\n",
      "Missing result... city 272: bur gabo NOT FOUND\n",
      "Weather check for city 273: naron\n",
      "Weather check for city 274: touros\n",
      "Weather check for city 275: padang\n",
      "Weather check for city 276: codrington\n",
      "Weather check for city 277: swellendam\n",
      "Weather check for city 278: hamilton\n",
      "Weather check for city 279: mosquera\n",
      "Weather check for city 280: deputatskiy\n",
      "Weather check for city 281: mlonggo\n",
      "Missing result... city 282: ye NOT FOUND\n",
      "Missing result... city 283: othonoi NOT FOUND\n",
      "Weather check for city 284: lorengau\n",
      "Weather check for city 285: ust-tsilma\n",
      "Weather check for city 286: fraga\n",
      "Weather check for city 287: vatne\n",
      "Weather check for city 288: faya\n",
      "Weather check for city 289: dikson\n",
      "Weather check for city 290: serebryansk\n",
      "Weather check for city 291: bengkulu\n",
      "Weather check for city 292: san agustin acasaguastlan\n",
      "Weather check for city 293: north bend\n"
     ]
    }
   ],
   "source": [
    "# set up lists to hold reponse info\n",
    "thiscity = []\n",
    "lat = []\n",
    "lon = []\n",
    "max_temp = []\n",
    "humidity = []\n",
    "cloudiness = []\n",
    "wind_speed = []\n",
    "country = []\n",
    "date = []\n",
    "\n",
    "# Loop through the list of cities and perform a request for data on each\n",
    "for idx, city in enumerate(cities):\n",
    "    try:\n",
    "        response = requests.get(query_url + city).json()\n",
    "        thiscity.append(response['name'])\n",
    "        lat.append(response['coord']['lat'])\n",
    "        lon.append(response['coord']['lon'])\n",
    "        max_temp.append(response['main']['temp_max'])\n",
    "        humidity.append(response['main']['humidity'])\n",
    "        cloudiness.append(response['clouds']['all'])\n",
    "        wind_speed.append(response['wind']['speed'])\n",
    "        country.append(response['sys']['country'])\n",
    "        date.append(response['dt'])                  \n",
    "        print(f\"Weather check for city {idx}: {city}\")\n",
    "    \n",
    "    except:\n",
    "        print(f\"Missing result... city {idx}: {city} NOT FOUND\")"
   ]
  },
  {
   "cell_type": "markdown",
   "metadata": {},
   "source": [
    "### Convert Raw Data to DataFrame\n",
    "* Export the city data into a .csv.\n",
    "* Display the DataFrame"
   ]
  },
  {
   "cell_type": "code",
   "execution_count": 6,
   "metadata": {},
   "outputs": [
    {
     "name": "stdout",
     "output_type": "stream",
     "text": [
      "263\n",
      "263\n",
      "263\n",
      "263\n"
     ]
    }
   ],
   "source": [
    "print(len(thiscity))\n",
    "print(len(lat))\n",
    "print(len(lon))\n",
    "print(len(max_temp))"
   ]
  },
  {
   "cell_type": "code",
   "execution_count": 12,
   "metadata": {},
   "outputs": [
    {
     "data": {
      "text/html": [
       "<div>\n",
       "<style scoped>\n",
       "    .dataframe tbody tr th:only-of-type {\n",
       "        vertical-align: middle;\n",
       "    }\n",
       "\n",
       "    .dataframe tbody tr th {\n",
       "        vertical-align: top;\n",
       "    }\n",
       "\n",
       "    .dataframe thead th {\n",
       "        text-align: right;\n",
       "    }\n",
       "</style>\n",
       "<table border=\"1\" class=\"dataframe\">\n",
       "  <thead>\n",
       "    <tr style=\"text-align: right;\">\n",
       "      <th></th>\n",
       "      <th>city</th>\n",
       "      <th>lat</th>\n",
       "      <th>lon</th>\n",
       "      <th>max temp</th>\n",
       "      <th>humidity</th>\n",
       "      <th>cloudiness</th>\n",
       "      <th>wind speed</th>\n",
       "      <th>country</th>\n",
       "      <th>date</th>\n",
       "    </tr>\n",
       "  </thead>\n",
       "  <tbody>\n",
       "    <tr>\n",
       "      <th>0</th>\n",
       "      <td>Kruisfontein</td>\n",
       "      <td>-34.0033</td>\n",
       "      <td>24.7314</td>\n",
       "      <td>65.88</td>\n",
       "      <td>61</td>\n",
       "      <td>4</td>\n",
       "      <td>3.40</td>\n",
       "      <td>ZA</td>\n",
       "      <td>1644342972</td>\n",
       "    </tr>\n",
       "    <tr>\n",
       "      <th>1</th>\n",
       "      <td>Ushuaia</td>\n",
       "      <td>-54.8000</td>\n",
       "      <td>-68.3000</td>\n",
       "      <td>56.82</td>\n",
       "      <td>58</td>\n",
       "      <td>40</td>\n",
       "      <td>23.02</td>\n",
       "      <td>AR</td>\n",
       "      <td>1644342951</td>\n",
       "    </tr>\n",
       "    <tr>\n",
       "      <th>2</th>\n",
       "      <td>Kharp</td>\n",
       "      <td>66.8014</td>\n",
       "      <td>65.8081</td>\n",
       "      <td>-10.43</td>\n",
       "      <td>100</td>\n",
       "      <td>100</td>\n",
       "      <td>2.91</td>\n",
       "      <td>RU</td>\n",
       "      <td>1644342972</td>\n",
       "    </tr>\n",
       "    <tr>\n",
       "      <th>3</th>\n",
       "      <td>Pevek</td>\n",
       "      <td>69.7008</td>\n",
       "      <td>170.3133</td>\n",
       "      <td>-32.08</td>\n",
       "      <td>100</td>\n",
       "      <td>73</td>\n",
       "      <td>5.26</td>\n",
       "      <td>RU</td>\n",
       "      <td>1644342973</td>\n",
       "    </tr>\n",
       "    <tr>\n",
       "      <th>4</th>\n",
       "      <td>Saint-Pierre</td>\n",
       "      <td>-21.3393</td>\n",
       "      <td>55.4781</td>\n",
       "      <td>78.48</td>\n",
       "      <td>83</td>\n",
       "      <td>0</td>\n",
       "      <td>2.30</td>\n",
       "      <td>RE</td>\n",
       "      <td>1644342973</td>\n",
       "    </tr>\n",
       "    <tr>\n",
       "      <th>5</th>\n",
       "      <td>Álamos</td>\n",
       "      <td>27.0167</td>\n",
       "      <td>-108.9333</td>\n",
       "      <td>76.06</td>\n",
       "      <td>12</td>\n",
       "      <td>0</td>\n",
       "      <td>1.43</td>\n",
       "      <td>MX</td>\n",
       "      <td>1644342973</td>\n",
       "    </tr>\n",
       "    <tr>\n",
       "      <th>6</th>\n",
       "      <td>Qaanaaq</td>\n",
       "      <td>77.4840</td>\n",
       "      <td>-69.3632</td>\n",
       "      <td>-11.04</td>\n",
       "      <td>94</td>\n",
       "      <td>100</td>\n",
       "      <td>4.99</td>\n",
       "      <td>GL</td>\n",
       "      <td>1644342974</td>\n",
       "    </tr>\n",
       "    <tr>\n",
       "      <th>7</th>\n",
       "      <td>Khatanga</td>\n",
       "      <td>71.9667</td>\n",
       "      <td>102.5000</td>\n",
       "      <td>2.70</td>\n",
       "      <td>78</td>\n",
       "      <td>100</td>\n",
       "      <td>17.90</td>\n",
       "      <td>RU</td>\n",
       "      <td>1644342974</td>\n",
       "    </tr>\n",
       "    <tr>\n",
       "      <th>8</th>\n",
       "      <td>Rawson</td>\n",
       "      <td>-43.3002</td>\n",
       "      <td>-65.1023</td>\n",
       "      <td>69.64</td>\n",
       "      <td>56</td>\n",
       "      <td>96</td>\n",
       "      <td>19.89</td>\n",
       "      <td>AR</td>\n",
       "      <td>1644342975</td>\n",
       "    </tr>\n",
       "    <tr>\n",
       "      <th>9</th>\n",
       "      <td>Saskylakh</td>\n",
       "      <td>71.9167</td>\n",
       "      <td>114.0833</td>\n",
       "      <td>-1.46</td>\n",
       "      <td>87</td>\n",
       "      <td>100</td>\n",
       "      <td>12.84</td>\n",
       "      <td>RU</td>\n",
       "      <td>1644342975</td>\n",
       "    </tr>\n",
       "    <tr>\n",
       "      <th>10</th>\n",
       "      <td>Bor</td>\n",
       "      <td>56.3567</td>\n",
       "      <td>44.0669</td>\n",
       "      <td>31.93</td>\n",
       "      <td>98</td>\n",
       "      <td>100</td>\n",
       "      <td>9.08</td>\n",
       "      <td>RU</td>\n",
       "      <td>1644342975</td>\n",
       "    </tr>\n",
       "    <tr>\n",
       "      <th>11</th>\n",
       "      <td>Busselton</td>\n",
       "      <td>-33.6500</td>\n",
       "      <td>115.3333</td>\n",
       "      <td>56.08</td>\n",
       "      <td>81</td>\n",
       "      <td>12</td>\n",
       "      <td>7.96</td>\n",
       "      <td>AU</td>\n",
       "      <td>1644342976</td>\n",
       "    </tr>\n",
       "    <tr>\n",
       "      <th>12</th>\n",
       "      <td>Mar del Plata</td>\n",
       "      <td>-38.0023</td>\n",
       "      <td>-57.5575</td>\n",
       "      <td>71.62</td>\n",
       "      <td>80</td>\n",
       "      <td>0</td>\n",
       "      <td>11.01</td>\n",
       "      <td>AR</td>\n",
       "      <td>1644342976</td>\n",
       "    </tr>\n",
       "    <tr>\n",
       "      <th>13</th>\n",
       "      <td>Atherton</td>\n",
       "      <td>53.5237</td>\n",
       "      <td>-2.4935</td>\n",
       "      <td>53.35</td>\n",
       "      <td>91</td>\n",
       "      <td>100</td>\n",
       "      <td>13.02</td>\n",
       "      <td>GB</td>\n",
       "      <td>1644342976</td>\n",
       "    </tr>\n",
       "    <tr>\n",
       "      <th>14</th>\n",
       "      <td>Mataura</td>\n",
       "      <td>-46.1927</td>\n",
       "      <td>168.8643</td>\n",
       "      <td>48.47</td>\n",
       "      <td>99</td>\n",
       "      <td>35</td>\n",
       "      <td>3.18</td>\n",
       "      <td>NZ</td>\n",
       "      <td>1644342977</td>\n",
       "    </tr>\n",
       "    <tr>\n",
       "      <th>15</th>\n",
       "      <td>Parrita</td>\n",
       "      <td>9.5201</td>\n",
       "      <td>-84.3225</td>\n",
       "      <td>98.26</td>\n",
       "      <td>57</td>\n",
       "      <td>16</td>\n",
       "      <td>7.09</td>\n",
       "      <td>CR</td>\n",
       "      <td>1644342977</td>\n",
       "    </tr>\n",
       "    <tr>\n",
       "      <th>16</th>\n",
       "      <td>Kavieng</td>\n",
       "      <td>-2.5744</td>\n",
       "      <td>150.7967</td>\n",
       "      <td>81.00</td>\n",
       "      <td>81</td>\n",
       "      <td>100</td>\n",
       "      <td>9.40</td>\n",
       "      <td>PG</td>\n",
       "      <td>1644342977</td>\n",
       "    </tr>\n",
       "    <tr>\n",
       "      <th>17</th>\n",
       "      <td>Rikitea</td>\n",
       "      <td>-23.1203</td>\n",
       "      <td>-134.9692</td>\n",
       "      <td>78.13</td>\n",
       "      <td>73</td>\n",
       "      <td>58</td>\n",
       "      <td>10.92</td>\n",
       "      <td>PF</td>\n",
       "      <td>1644342978</td>\n",
       "    </tr>\n",
       "    <tr>\n",
       "      <th>18</th>\n",
       "      <td>Tabas</td>\n",
       "      <td>33.5959</td>\n",
       "      <td>56.9244</td>\n",
       "      <td>50.79</td>\n",
       "      <td>31</td>\n",
       "      <td>23</td>\n",
       "      <td>2.39</td>\n",
       "      <td>IR</td>\n",
       "      <td>1644342978</td>\n",
       "    </tr>\n",
       "    <tr>\n",
       "      <th>19</th>\n",
       "      <td>East London</td>\n",
       "      <td>-33.0153</td>\n",
       "      <td>27.9116</td>\n",
       "      <td>77.94</td>\n",
       "      <td>83</td>\n",
       "      <td>0</td>\n",
       "      <td>9.22</td>\n",
       "      <td>ZA</td>\n",
       "      <td>1644342979</td>\n",
       "    </tr>\n",
       "    <tr>\n",
       "      <th>20</th>\n",
       "      <td>Geraldton</td>\n",
       "      <td>-28.7667</td>\n",
       "      <td>114.6000</td>\n",
       "      <td>68.41</td>\n",
       "      <td>68</td>\n",
       "      <td>0</td>\n",
       "      <td>18.41</td>\n",
       "      <td>AU</td>\n",
       "      <td>1644342979</td>\n",
       "    </tr>\n",
       "    <tr>\n",
       "      <th>21</th>\n",
       "      <td>Vaini</td>\n",
       "      <td>-21.2000</td>\n",
       "      <td>-175.2000</td>\n",
       "      <td>75.36</td>\n",
       "      <td>100</td>\n",
       "      <td>75</td>\n",
       "      <td>5.75</td>\n",
       "      <td>TO</td>\n",
       "      <td>1644342979</td>\n",
       "    </tr>\n",
       "    <tr>\n",
       "      <th>22</th>\n",
       "      <td>Muros</td>\n",
       "      <td>42.7762</td>\n",
       "      <td>-9.0603</td>\n",
       "      <td>63.10</td>\n",
       "      <td>68</td>\n",
       "      <td>1</td>\n",
       "      <td>4.85</td>\n",
       "      <td>ES</td>\n",
       "      <td>1644342980</td>\n",
       "    </tr>\n",
       "    <tr>\n",
       "      <th>23</th>\n",
       "      <td>Banda Aceh</td>\n",
       "      <td>5.5577</td>\n",
       "      <td>95.3222</td>\n",
       "      <td>78.24</td>\n",
       "      <td>84</td>\n",
       "      <td>34</td>\n",
       "      <td>7.67</td>\n",
       "      <td>ID</td>\n",
       "      <td>1644342980</td>\n",
       "    </tr>\n",
       "    <tr>\n",
       "      <th>24</th>\n",
       "      <td>Belmonte</td>\n",
       "      <td>-15.8631</td>\n",
       "      <td>-38.8828</td>\n",
       "      <td>84.70</td>\n",
       "      <td>62</td>\n",
       "      <td>62</td>\n",
       "      <td>9.89</td>\n",
       "      <td>BR</td>\n",
       "      <td>1644342980</td>\n",
       "    </tr>\n",
       "    <tr>\n",
       "      <th>25</th>\n",
       "      <td>Ishigaki</td>\n",
       "      <td>24.3448</td>\n",
       "      <td>124.1572</td>\n",
       "      <td>67.23</td>\n",
       "      <td>77</td>\n",
       "      <td>100</td>\n",
       "      <td>21.27</td>\n",
       "      <td>JP</td>\n",
       "      <td>1644342981</td>\n",
       "    </tr>\n",
       "    <tr>\n",
       "      <th>26</th>\n",
       "      <td>De-Kastri</td>\n",
       "      <td>51.4667</td>\n",
       "      <td>140.7833</td>\n",
       "      <td>10.63</td>\n",
       "      <td>87</td>\n",
       "      <td>100</td>\n",
       "      <td>14.85</td>\n",
       "      <td>RU</td>\n",
       "      <td>1644342981</td>\n",
       "    </tr>\n",
       "    <tr>\n",
       "      <th>27</th>\n",
       "      <td>New Norfolk</td>\n",
       "      <td>-42.7826</td>\n",
       "      <td>147.0587</td>\n",
       "      <td>54.91</td>\n",
       "      <td>71</td>\n",
       "      <td>61</td>\n",
       "      <td>2.01</td>\n",
       "      <td>AU</td>\n",
       "      <td>1644342981</td>\n",
       "    </tr>\n",
       "    <tr>\n",
       "      <th>28</th>\n",
       "      <td>Husavik</td>\n",
       "      <td>66.0449</td>\n",
       "      <td>-17.3389</td>\n",
       "      <td>28.31</td>\n",
       "      <td>94</td>\n",
       "      <td>100</td>\n",
       "      <td>23.71</td>\n",
       "      <td>IS</td>\n",
       "      <td>1644342982</td>\n",
       "    </tr>\n",
       "    <tr>\n",
       "      <th>29</th>\n",
       "      <td>Jamestown</td>\n",
       "      <td>42.0970</td>\n",
       "      <td>-79.2353</td>\n",
       "      <td>29.52</td>\n",
       "      <td>60</td>\n",
       "      <td>100</td>\n",
       "      <td>14.97</td>\n",
       "      <td>US</td>\n",
       "      <td>1644342763</td>\n",
       "    </tr>\n",
       "  </tbody>\n",
       "</table>\n",
       "</div>"
      ],
      "text/plain": [
       "             city      lat       lon  max temp  humidity  cloudiness  \\\n",
       "0    Kruisfontein -34.0033   24.7314     65.88        61           4   \n",
       "1         Ushuaia -54.8000  -68.3000     56.82        58          40   \n",
       "2           Kharp  66.8014   65.8081    -10.43       100         100   \n",
       "3           Pevek  69.7008  170.3133    -32.08       100          73   \n",
       "4    Saint-Pierre -21.3393   55.4781     78.48        83           0   \n",
       "5          Álamos  27.0167 -108.9333     76.06        12           0   \n",
       "6         Qaanaaq  77.4840  -69.3632    -11.04        94         100   \n",
       "7        Khatanga  71.9667  102.5000      2.70        78         100   \n",
       "8          Rawson -43.3002  -65.1023     69.64        56          96   \n",
       "9       Saskylakh  71.9167  114.0833     -1.46        87         100   \n",
       "10            Bor  56.3567   44.0669     31.93        98         100   \n",
       "11      Busselton -33.6500  115.3333     56.08        81          12   \n",
       "12  Mar del Plata -38.0023  -57.5575     71.62        80           0   \n",
       "13       Atherton  53.5237   -2.4935     53.35        91         100   \n",
       "14        Mataura -46.1927  168.8643     48.47        99          35   \n",
       "15        Parrita   9.5201  -84.3225     98.26        57          16   \n",
       "16        Kavieng  -2.5744  150.7967     81.00        81         100   \n",
       "17        Rikitea -23.1203 -134.9692     78.13        73          58   \n",
       "18          Tabas  33.5959   56.9244     50.79        31          23   \n",
       "19    East London -33.0153   27.9116     77.94        83           0   \n",
       "20      Geraldton -28.7667  114.6000     68.41        68           0   \n",
       "21          Vaini -21.2000 -175.2000     75.36       100          75   \n",
       "22          Muros  42.7762   -9.0603     63.10        68           1   \n",
       "23     Banda Aceh   5.5577   95.3222     78.24        84          34   \n",
       "24       Belmonte -15.8631  -38.8828     84.70        62          62   \n",
       "25       Ishigaki  24.3448  124.1572     67.23        77         100   \n",
       "26      De-Kastri  51.4667  140.7833     10.63        87         100   \n",
       "27    New Norfolk -42.7826  147.0587     54.91        71          61   \n",
       "28        Husavik  66.0449  -17.3389     28.31        94         100   \n",
       "29      Jamestown  42.0970  -79.2353     29.52        60         100   \n",
       "\n",
       "    wind speed country        date  \n",
       "0         3.40      ZA  1644342972  \n",
       "1        23.02      AR  1644342951  \n",
       "2         2.91      RU  1644342972  \n",
       "3         5.26      RU  1644342973  \n",
       "4         2.30      RE  1644342973  \n",
       "5         1.43      MX  1644342973  \n",
       "6         4.99      GL  1644342974  \n",
       "7        17.90      RU  1644342974  \n",
       "8        19.89      AR  1644342975  \n",
       "9        12.84      RU  1644342975  \n",
       "10        9.08      RU  1644342975  \n",
       "11        7.96      AU  1644342976  \n",
       "12       11.01      AR  1644342976  \n",
       "13       13.02      GB  1644342976  \n",
       "14        3.18      NZ  1644342977  \n",
       "15        7.09      CR  1644342977  \n",
       "16        9.40      PG  1644342977  \n",
       "17       10.92      PF  1644342978  \n",
       "18        2.39      IR  1644342978  \n",
       "19        9.22      ZA  1644342979  \n",
       "20       18.41      AU  1644342979  \n",
       "21        5.75      TO  1644342979  \n",
       "22        4.85      ES  1644342980  \n",
       "23        7.67      ID  1644342980  \n",
       "24        9.89      BR  1644342980  \n",
       "25       21.27      JP  1644342981  \n",
       "26       14.85      RU  1644342981  \n",
       "27        2.01      AU  1644342981  \n",
       "28       23.71      IS  1644342982  \n",
       "29       14.97      US  1644342763  "
      ]
     },
     "execution_count": 12,
     "metadata": {},
     "output_type": "execute_result"
    }
   ],
   "source": [
    "# create the data frame\n",
    "weather_dict = {\n",
    "    'city': thiscity,\n",
    "    'lat': lat,\n",
    "    'lon': lon,\n",
    "    'max temp': max_temp,\n",
    "    'humidity': humidity,\n",
    "    'cloudiness': cloudiness,\n",
    "    'wind speed': wind_speed,\n",
    "    'country': country,\n",
    "    'date': date\n",
    "}\n",
    "city_df = pd.DataFrame(weather_dict)\n",
    "city_df.head(30)"
   ]
  },
  {
   "cell_type": "code",
   "execution_count": 8,
   "metadata": {},
   "outputs": [],
   "source": [
    "# export to a CSV\n",
    "city_df.to_csv(output_data_file)"
   ]
  },
  {
   "cell_type": "markdown",
   "metadata": {},
   "source": [
    "## Inspect the data and remove the cities where the humidity > 100%.\n",
    "----\n",
    "Skip this step if there are no cities that have humidity > 100%. "
   ]
  },
  {
   "cell_type": "code",
   "execution_count": 11,
   "metadata": {},
   "outputs": [
    {
     "data": {
      "text/plain": [
       "Int64Index([], dtype='int64')"
      ]
     },
     "execution_count": 11,
     "metadata": {},
     "output_type": "execute_result"
    }
   ],
   "source": [
    "#  Get the indices of cities that have humidity over 100%.\n",
    "high_humidity_df = city_df[(city_df['humidity'] > 100)]\n",
    "high_humidity_df.index"
   ]
  },
  {
   "cell_type": "code",
   "execution_count": 14,
   "metadata": {},
   "outputs": [],
   "source": [
    "# Make a new DataFrame equal to the city data to drop all humidity outliers by index.\n",
    "# Passing \"inplace=False\" will make a copy of the city_data DataFrame, which we call \"clean_city_data\".\n",
    "\n",
    "#clean_city_df = city_df.join(high_humidity_df, how='outer')\n",
    "#clean_city_df = pd.merge(city_df, high_humidity_df, on=index)\n",
    "#clean_city_df"
   ]
  },
  {
   "cell_type": "markdown",
   "metadata": {},
   "source": [
    "## Plotting the Data\n",
    "* Use proper labeling of the plots using plot titles (including date of analysis) and axes labels.\n",
    "* Save the plotted figures as .pngs."
   ]
  },
  {
   "cell_type": "markdown",
   "metadata": {},
   "source": [
    "## Latitude vs. Temperature Plot"
   ]
  },
  {
   "cell_type": "code",
   "execution_count": 15,
   "metadata": {},
   "outputs": [
    {
     "data": {
      "text/plain": [
       "Timestamp('2022-02-08 17:56:12')"
      ]
     },
     "execution_count": 15,
     "metadata": {},
     "output_type": "execute_result"
    }
   ],
   "source": [
    "# date of analysis\n",
    "find_date = city_df[\"date\"][0]\n",
    "run_date = pd.to_datetime(find_date, unit='s')\n",
    "run_date"
   ]
  },
  {
   "cell_type": "code",
   "execution_count": 16,
   "metadata": {},
   "outputs": [
    {
     "data": {
      "image/png": "[encoded data removed]",
      "text/plain": [
       "<Figure size 432x288 with 1 Axes>"
      ]
     },
     "metadata": {
      "needs_background": "light"
     },
     "output_type": "display_data"
    }
   ],
   "source": [
    "# lat vs temp basic plot\n",
    "x_lat = city_df['lat']\n",
    "y_maxtemp = city_df['max temp']\n",
    "plt.scatter(x_lat, y_maxtemp)\n",
    "\n",
    "# titles, labels, and design elements\n",
    "plt.title(f'Latitude vs Temperature on {run_date}')\n",
    "plt.xlabel('latitude')\n",
    "plt.ylabel('maximum temperature (F)')\n",
    "plt.grid()\n",
    "\n",
    "# display plot\n",
    "plt.show()"
   ]
  },
  {
   "cell_type": "code",
   "execution_count": 17,
   "metadata": {
    "scrolled": true
   },
   "outputs": [
    {
     "data": {
      "text/plain": [
       "<Figure size 432x288 with 0 Axes>"
      ]
     },
     "metadata": {},
     "output_type": "display_data"
    }
   ],
   "source": [
    "# export .png to file\n",
    "plt.savefig(\"../output_data/LatVsTemp.png\")"
   ]
  },
  {
   "cell_type": "markdown",
   "metadata": {},
   "source": [
    "## Latitude vs. Humidity Plot"
   ]
  },
  {
   "cell_type": "code",
   "execution_count": 18,
   "metadata": {},
   "outputs": [
    {
     "data": {
      "image/png": "[encoded data removed]",
      "text/plain": [
       "<Figure size 432x288 with 1 Axes>"
      ]
     },
     "metadata": {
      "needs_background": "light"
     },
     "output_type": "display_data"
    }
   ],
   "source": [
    "# lat vs temp basic plot\n",
    "x_lat = city_df['lat']\n",
    "y_humidity = city_df['humidity']\n",
    "plt.scatter(x_lat, y_humidity)\n",
    "\n",
    "# titles, labels, and design elements\n",
    "plt.title(f'Latitude vs Humidity on {run_date}')\n",
    "plt.xlabel('latitude')\n",
    "plt.ylabel('humidity')\n",
    "plt.grid()\n",
    "\n",
    "# display plot\n",
    "plt.show()"
   ]
  },
  {
   "cell_type": "code",
   "execution_count": 19,
   "metadata": {},
   "outputs": [
    {
     "data": {
      "text/plain": [
       "<Figure size 432x288 with 0 Axes>"
      ]
     },
     "metadata": {},
     "output_type": "display_data"
    }
   ],
   "source": [
    "# export .png to file\n",
    "plt.savefig(\"../output_data/LatVsHumidity.png\")"
   ]
  },
  {
   "cell_type": "markdown",
   "metadata": {},
   "source": [
    "## Latitude vs. Cloudiness Plot"
   ]
  },
  {
   "cell_type": "code",
   "execution_count": 20,
   "metadata": {},
   "outputs": [
    {
     "data": {
      "image/png": "[encoded data removed]",
      "text/plain": [
       "<Figure size 432x288 with 1 Axes>"
      ]
     },
     "metadata": {
      "needs_background": "light"
     },
     "output_type": "display_data"
    }
   ],
   "source": [
    "# lat vs temp basic plot\n",
    "x_lat = city_df['lat']\n",
    "y_cloudiness = city_df['cloudiness']\n",
    "plt.scatter(x_lat, y_cloudiness)\n",
    "\n",
    "# titles, labels, and design elements\n",
    "plt.title(f'Latitude vs Cloudiness on {run_date}')\n",
    "plt.xlabel('latitude')\n",
    "plt.ylabel('cloudiness')\n",
    "plt.grid()\n",
    "\n",
    "# display plot\n",
    "plt.show()"
   ]
  },
  {
   "cell_type": "code",
   "execution_count": 21,
   "metadata": {},
   "outputs": [
    {
     "data": {
      "text/plain": [
       "<Figure size 432x288 with 0 Axes>"
      ]
     },
     "metadata": {},
     "output_type": "display_data"
    }
   ],
   "source": [
    "# export .png to file\n",
    "plt.savefig(\"../output_data/LatVsCloudiness.png\")"
   ]
  },
  {
   "cell_type": "markdown",
   "metadata": {},
   "source": [
    "## Latitude vs. Wind Speed Plot"
   ]
  },
  {
   "cell_type": "code",
   "execution_count": 22,
   "metadata": {},
   "outputs": [
    {
     "data": {
      "image/png": "[encoded data removed]",
      "text/plain": [
       "<Figure size 432x288 with 1 Axes>"
      ]
     },
     "metadata": {
      "needs_background": "light"
     },
     "output_type": "display_data"
    }
   ],
   "source": [
    "# lat vs temp basic plot\n",
    "x_lat = city_df['lat']\n",
    "y_windspeed = city_df['wind speed']\n",
    "plt.scatter(x_lat, y_windspeed)\n",
    "\n",
    "# titles, labels, and design elements\n",
    "plt.title(f'Latitude vs Wind Speed on {run_date}')\n",
    "plt.xlabel('latitude')\n",
    "plt.ylabel('wind speed')\n",
    "plt.grid()\n",
    "\n",
    "# display plot\n",
    "plt.show()"
   ]
  },
  {
   "cell_type": "code",
   "execution_count": 23,
   "metadata": {},
   "outputs": [
    {
     "data": {
      "text/plain": [
       "<Figure size 432x288 with 0 Axes>"
      ]
     },
     "metadata": {},
     "output_type": "display_data"
    }
   ],
   "source": [
    "# export .png to file\n",
    "plt.savefig(\"../output_data/LatVsWindSpeed.png\")"
   ]
  },
  {
   "cell_type": "markdown",
   "metadata": {},
   "source": [
    "## Linear Regression"
   ]
  },
  {
   "cell_type": "code",
   "execution_count": null,
   "metadata": {},
   "outputs": [],
   "source": []
  },
  {
   "cell_type": "code",
   "execution_count": null,
   "metadata": {},
   "outputs": [],
   "source": []
  },
  {
   "cell_type": "code",
   "execution_count": 25,
   "metadata": {},
   "outputs": [],
   "source": [
    "northern_df = city_df.loc[city_df['lat'] > 0]\n",
    "southern_df = city_df.loc[city_df['lat'] < 0]"
   ]
  },
  {
   "cell_type": "markdown",
   "metadata": {},
   "source": [
    "####  Northern Hemisphere - Max Temp vs. Latitude Linear Regression"
   ]
  },
  {
   "cell_type": "code",
   "execution_count": 29,
   "metadata": {},
   "outputs": [
    {
     "name": "stdout",
     "output_type": "stream",
     "text": [
      "The correlation between latitude and max temperature(F) in the Northern Hemisphere is -0.8751838429355913\n",
      "\n"
     ]
    },
    {
     "data": {
      "image/png": "[encoded data removed]",
      "text/plain": [
       "<Figure size 432x288 with 1 Axes>"
      ]
     },
     "metadata": {
      "needs_background": "light"
     },
     "output_type": "display_data"
    }
   ],
   "source": [
    "# lat vs temp basic plot\n",
    "x_lat_north = northern_df['lat']\n",
    "y_maxtemp_north = northern_df['max temp']\n",
    "plt.scatter(x_lat_north, y_maxtemp_north)\n",
    "\n",
    "# titles, labels, and design elements\n",
    "plt.title(f'Northern Hemisphere Latitude vs Max Temperature (F) on {run_date}')\n",
    "plt.xlabel('latitude')\n",
    "plt.ylabel('max temperature (F)')\n",
    "plt.grid()\n",
    "\n",
    "# linear regression\n",
    "(slope, intercept, rvalue, pvalue, stderr) = linregress(x_lat_north, y_maxtemp_north)\n",
    "regress_values = x_lat_north * slope + intercept\n",
    "line_eq = \"y = \" + str(round(slope,2)) + \"x + \" + str(round(intercept,2))\n",
    "plt.scatter(x_lat_north, y_maxtemp_north)\n",
    "plt.plot(x_lat_north,regress_values,\"r-\")\n",
    "\n",
    "plt.annotate(line_eq,(40, 50),fontsize=12,color=\"red\")\n",
    "\n",
    "print(f\"The correlation between latitude and max temperature(F) in the Northern Hemisphere is {rvalue}\")\n",
    "print(\"\")\n",
    "\n",
    "# display plot\n",
    "plt.show()"
   ]
  },
  {
   "cell_type": "markdown",
   "metadata": {},
   "source": [
    "####  Southern Hemisphere - Max Temp vs. Latitude Linear Regression"
   ]
  },
  {
   "cell_type": "code",
   "execution_count": 28,
   "metadata": {},
   "outputs": [
    {
     "name": "stdout",
     "output_type": "stream",
     "text": [
      "The correlation between latitude and max temperature(F) in the Southern Hemisphere is 0.5740337000763197\n",
      "\n"
     ]
    },
    {
     "data": {
      "image/png": "[encoded data removed]",
      "text/plain": [
       "<Figure size 432x288 with 1 Axes>"
      ]
     },
     "metadata": {
      "needs_background": "light"
     },
     "output_type": "display_data"
    }
   ],
   "source": [
    "# lat vs temp basic plot\n",
    "x_lat_south = southern_df['lat']\n",
    "y_maxtemp_south = southern_df['max temp']\n",
    "plt.scatter(x_lat_south, y_maxtemp_south)\n",
    "\n",
    "# titles, labels, and design elements\n",
    "plt.title(f'Southern Hemisphere Latitude vs Max Temperature (F) on {run_date}')\n",
    "plt.xlabel('latitude')\n",
    "plt.ylabel('max temperature (F)')\n",
    "plt.grid()\n",
    "\n",
    "# linear regression\n",
    "(slope, intercept, rvalue, pvalue, stderr) = linregress(x_lat_south, y_maxtemp_south)\n",
    "regress_values = x_lat_south * slope + intercept\n",
    "line_eq = \"y = \" + str(round(slope,2)) + \"x + \" + str(round(intercept,2))\n",
    "plt.scatter(x_lat_south, y_maxtemp_south)\n",
    "plt.plot(x_lat_south,regress_values,\"r-\")\n",
    "\n",
    "plt.annotate(line_eq,(-55, 65),fontsize=12,color=\"red\")\n",
    "\n",
    "print(f\"The correlation between latitude and max temperature(F) in the Southern Hemisphere is {rvalue}\")\n",
    "print(\"\")\n",
    "\n",
    "# display plot\n",
    "plt.show()"
   ]
  },
  {
   "cell_type": "markdown",
   "metadata": {},
   "source": [
    "####  Northern Hemisphere - Humidity (%) vs. Latitude Linear Regression"
   ]
  },
  {
   "cell_type": "code",
   "execution_count": 30,
   "metadata": {},
   "outputs": [
    {
     "name": "stdout",
     "output_type": "stream",
     "text": [
      "The correlation between latitude and humidity is 0.4471987080568363\n",
      "\n"
     ]
    },
    {
     "data": {
      "image/png": "[encoded data removed]",
      "text/plain": [
       "<Figure size 432x288 with 1 Axes>"
      ]
     },
     "metadata": {
      "needs_background": "light"
     },
     "output_type": "display_data"
    }
   ],
   "source": [
    "# lat vs temp basic plot\n",
    "x_lat_north = northern_df['lat']\n",
    "y_humidity_north = northern_df['humidity']\n",
    "plt.scatter(x_lat_north, y_humidity_north)\n",
    "\n",
    "# titles, labels, and design elements\n",
    "plt.title(f'Northern Hemisphere Latitude vs Humidity (F) on {run_date}')\n",
    "plt.xlabel('latitude')\n",
    "plt.ylabel('humidity')\n",
    "plt.grid()\n",
    "\n",
    "# linear regression\n",
    "(slope, intercept, rvalue, pvalue, stderr) = linregress(x_lat_north, y_humidity_north)\n",
    "regress_values = x_lat_north * slope + intercept\n",
    "line_eq = \"y = \" + str(round(slope,2)) + \"x + \" + str(round(intercept,2))\n",
    "plt.scatter(x_lat_north, y_humidity_north)\n",
    "plt.plot(x_lat_north,regress_values,\"r-\")\n",
    "\n",
    "plt.annotate(line_eq,(40, 50),fontsize=12,color=\"red\")\n",
    "\n",
    "print(f\"The correlation between latitude and humidity is {rvalue}\")\n",
    "print(\"\")\n",
    "\n",
    "# display plot\n",
    "plt.show()"
   ]
  },
  {
   "cell_type": "markdown",
   "metadata": {},
   "source": [
    "####  Southern Hemisphere - Humidity (%) vs. Latitude Linear Regression"
   ]
  },
  {
   "cell_type": "code",
   "execution_count": 31,
   "metadata": {},
   "outputs": [
    {
     "name": "stdout",
     "output_type": "stream",
     "text": [
      "The correlation between latitude and max temperature (F) is 0.15349665747585206\n",
      "\n"
     ]
    },
    {
     "data": {
      "image/png": "[encoded data removed]",
      "text/plain": [
       "<Figure size 432x288 with 1 Axes>"
      ]
     },
     "metadata": {
      "needs_background": "light"
     },
     "output_type": "display_data"
    }
   ],
   "source": [
    "# lat vs temp basic plot\n",
    "x_lat_south = southern_df['lat']\n",
    "y_humidity_south = southern_df['humidity']\n",
    "plt.scatter(x_lat_south, y_humidity_south)\n",
    "\n",
    "# titles, labels, and design elements\n",
    "plt.title(f'Southern Hemisphere Latitude vs Humidity (F) on {run_date}')\n",
    "plt.xlabel('latitude')\n",
    "plt.ylabel('humidity')\n",
    "plt.grid()\n",
    "\n",
    "# linear regression\n",
    "(slope, intercept, rvalue, pvalue, stderr) = linregress(x_lat_south, y_humidity_south)\n",
    "regress_values = x_lat_south * slope + intercept\n",
    "line_eq = \"y = \" + str(round(slope,2)) + \"x + \" + str(round(intercept,2))\n",
    "plt.scatter(x_lat_south, y_humidity_south)\n",
    "plt.plot(x_lat_south,regress_values,\"r-\")\n",
    "\n",
    "plt.annotate(line_eq,(-55, 65),fontsize=12,color=\"red\")\n",
    "\n",
    "print(f\"The correlation between latitude and max temperature (F) is {rvalue}\")\n",
    "print(\"\")\n",
    "\n",
    "# display plot\n",
    "plt.show()"
   ]
  },
  {
   "cell_type": "markdown",
   "metadata": {},
   "source": [
    "####  Northern Hemisphere - Cloudiness (%) vs. Latitude Linear Regression"
   ]
  },
  {
   "cell_type": "code",
   "execution_count": 32,
   "metadata": {},
   "outputs": [
    {
     "name": "stdout",
     "output_type": "stream",
     "text": [
      "The correlation between latitude and cloudiness is 0.44404654154501616\n",
      "\n"
     ]
    },
    {
     "data": {
      "image/png": "[encoded data removed]",
      "text/plain": [
       "<Figure size 432x288 with 1 Axes>"
      ]
     },
     "metadata": {
      "needs_background": "light"
     },
     "output_type": "display_data"
    }
   ],
   "source": [
    "# lat vs temp basic plot\n",
    "x_lat_north = northern_df['lat']\n",
    "y_cloudiness_north = northern_df['cloudiness']\n",
    "plt.scatter(x_lat_north, y_cloudiness_north)\n",
    "\n",
    "# titles, labels, and design elements\n",
    "plt.title(f'Northern Hemisphere Latitude vs Cloudiness on {run_date}')\n",
    "plt.xlabel('latitude')\n",
    "plt.ylabel('cloudiness')\n",
    "plt.grid()\n",
    "\n",
    "# linear regression\n",
    "(slope, intercept, rvalue, pvalue, stderr) = linregress(x_lat_north, y_cloudiness_north)\n",
    "regress_values = x_lat_north * slope + intercept\n",
    "line_eq = \"y = \" + str(round(slope,2)) + \"x + \" + str(round(intercept,2))\n",
    "plt.scatter(x_lat_north, y_cloudiness_north)\n",
    "plt.plot(x_lat_north,regress_values,\"r-\")\n",
    "\n",
    "plt.annotate(line_eq,(40, 50),fontsize=12,color=\"red\")\n",
    "\n",
    "print(f\"The correlation between latitude and cloudiness is {rvalue}\")\n",
    "print(\"\")\n",
    "\n",
    "# display plot\n",
    "plt.show()"
   ]
  },
  {
   "cell_type": "markdown",
   "metadata": {},
   "source": [
    "####  Southern Hemisphere - Cloudiness (%) vs. Latitude Linear Regression"
   ]
  },
  {
   "cell_type": "code",
   "execution_count": 33,
   "metadata": {},
   "outputs": [
    {
     "name": "stdout",
     "output_type": "stream",
     "text": [
      "The correlation between latitude and cloudiness is 0.2073461240583603\n",
      "\n"
     ]
    },
    {
     "data": {
      "image/png": "[encoded data removed]",
      "text/plain": [
       "<Figure size 432x288 with 1 Axes>"
      ]
     },
     "metadata": {
      "needs_background": "light"
     },
     "output_type": "display_data"
    }
   ],
   "source": [
    "# lat vs temp basic plot\n",
    "x_lat_south = southern_df['lat']\n",
    "y_cloudiness_south = southern_df['cloudiness']\n",
    "plt.scatter(x_lat_south, y_cloudiness_south)\n",
    "\n",
    "# titles, labels, and design elements\n",
    "plt.title(f'Southern Hemisphere Latitude vs Cloudiness on {run_date}')\n",
    "plt.xlabel('latitude')\n",
    "plt.ylabel('cloudiness')\n",
    "plt.grid()\n",
    "\n",
    "# linear regression\n",
    "(slope, intercept, rvalue, pvalue, stderr) = linregress(x_lat_south, y_cloudiness_south)\n",
    "regress_values = x_lat_south * slope + intercept\n",
    "line_eq = \"y = \" + str(round(slope,2)) + \"x + \" + str(round(intercept,2))\n",
    "plt.scatter(x_lat_south, y_cloudiness_south)\n",
    "plt.plot(x_lat_south,regress_values,\"r-\")\n",
    "\n",
    "plt.annotate(line_eq,(-55, 20),fontsize=12,color=\"red\")\n",
    "\n",
    "print(f\"The correlation between latitude and cloudiness is {rvalue}\")\n",
    "print(\"\")\n",
    "\n",
    "# display plot\n",
    "plt.show()"
   ]
  },
  {
   "cell_type": "markdown",
   "metadata": {},
   "source": [
    "####  Northern Hemisphere - Wind Speed (mph) vs. Latitude Linear Regression"
   ]
  },
  {
   "cell_type": "code",
   "execution_count": 34,
   "metadata": {},
   "outputs": [
    {
     "name": "stdout",
     "output_type": "stream",
     "text": [
      "The correlation between latitude and wind speed is 0.12110480956665341\n",
      "\n"
     ]
    },
    {
     "data": {
      "image/png": "[encoded data removed]",
      "text/plain": [
       "<Figure size 432x288 with 1 Axes>"
      ]
     },
     "metadata": {
      "needs_background": "light"
     },
     "output_type": "display_data"
    }
   ],
   "source": [
    "# lat vs temp basic plot\n",
    "x_lat_north = northern_df['lat']\n",
    "y_windspeed_north = northern_df['wind speed']\n",
    "plt.scatter(x_lat_north, y_windspeed_north)\n",
    "\n",
    "# titles, labels, and design elements\n",
    "plt.title(f'Northern Hemisphere Latitude vs Wind Speed on {run_date}')\n",
    "plt.xlabel('latitude')\n",
    "plt.ylabel('windspeed')\n",
    "plt.grid()\n",
    "\n",
    "# linear regression\n",
    "(slope, intercept, rvalue, pvalue, stderr) = linregress(x_lat_north, y_windspeed_north)\n",
    "regress_values = x_lat_north * slope + intercept\n",
    "line_eq = \"y = \" + str(round(slope,2)) + \"x + \" + str(round(intercept,2))\n",
    "plt.scatter(x_lat_north, y_windspeed_north)\n",
    "plt.plot(x_lat_north,regress_values,\"r-\")\n",
    "\n",
    "plt.annotate(line_eq,(40, 7.5),fontsize=12,color=\"red\")\n",
    "\n",
    "print(f\"The correlation between latitude and wind speed is {rvalue}\")\n",
    "print(\"\")\n",
    "\n",
    "# display plot\n",
    "plt.show()"
   ]
  },
  {
   "cell_type": "markdown",
   "metadata": {},
   "source": [
    "####  Southern Hemisphere - Wind Speed (mph) vs. Latitude Linear Regression"
   ]
  },
  {
   "cell_type": "code",
   "execution_count": 35,
   "metadata": {},
   "outputs": [
    {
     "name": "stdout",
     "output_type": "stream",
     "text": [
      "The correlation between latitude and wind speed is -0.05365419352318824\n",
      "\n"
     ]
    },
    {
     "data": {
      "image/png": "[encoded data removed]",
      "text/plain": [
       "<Figure size 432x288 with 1 Axes>"
      ]
     },
     "metadata": {
      "needs_background": "light"
     },
     "output_type": "display_data"
    }
   ],
   "source": [
    "# lat vs temp basic plot\n",
    "x_lat_south = southern_df['lat']\n",
    "y_windspeed_south = southern_df['wind speed']\n",
    "plt.scatter(x_lat_south, y_windspeed_south)\n",
    "\n",
    "# titles, labels, and design elements\n",
    "plt.title(f'Southern Hemisphere Latitude vs Wind Speed on {run_date}')\n",
    "plt.xlabel('latitude')\n",
    "plt.ylabel('wind speed')\n",
    "plt.grid()\n",
    "\n",
    "# linear regression\n",
    "(slope, intercept, rvalue, pvalue, stderr) = linregress(x_lat_south, y_windspeed_south)\n",
    "regress_values = x_lat_south * slope + intercept\n",
    "line_eq = \"y = \" + str(round(slope,2)) + \"x + \" + str(round(intercept,2))\n",
    "plt.scatter(x_lat_south, y_windspeed_south)\n",
    "plt.plot(x_lat_south,regress_values,\"r-\")\n",
    "\n",
    "plt.annotate(line_eq,(-55, 20),fontsize=12,color=\"red\")\n",
    "\n",
    "print(f\"The correlation between latitude and wind speed is {rvalue}\")\n",
    "print(\"\")\n",
    "\n",
    "# display plot\n",
    "plt.show()"
   ]
  },
  {
   "cell_type": "code",
   "execution_count": null,
   "metadata": {},
   "outputs": [],
   "source": []
  }
 ],
 "metadata": {
  "anaconda-cloud": {},
  "kernel_info": {
   "name": "python3"
  },
  "kernelspec": {
   "display_name": "Python 3 (ipykernel)",
   "language": "python",
   "name": "python3"
  },
  "language_info": {
   "codemirror_mode": {
    "name": "ipython",
    "version": 3
   },
   "file_extension": ".py",
   "mimetype": "text/x-python",
   "name": "python",
   "nbconvert_exporter": "python",
   "pygments_lexer": "ipython3",
   "version": "3.9.7"
  },
  "latex_envs": {
   "LaTeX_envs_menu_present": true,
   "autoclose": false,
   "autocomplete": true,
   "bibliofile": "biblio.bib",
   "cite_by": "apalike",
   "current_citInitial": 1,
   "eqLabelWithNumbers": true,
   "eqNumInitial": 1,
   "hotkeys": {
    "equation": "Ctrl-E",
    "itemize": "Ctrl-I"
   },
   "labels_anchors": false,
   "latex_user_defs": false,
   "report_style_numbering": false,
   "user_envs_cfg": false
  },
  "nteract": {
   "version": "0.12.3"
  }
 },
 "nbformat": 4,
 "nbformat_minor": 4
}
